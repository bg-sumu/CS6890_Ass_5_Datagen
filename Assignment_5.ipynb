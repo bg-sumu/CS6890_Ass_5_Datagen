{
 "cells": [
  {
   "cell_type": "markdown",
   "metadata": {},
   "source": [
    "---\n",
    "<h1><B> Fraud Analytics (CS6890)  </h1></B></center>\n",
    "\n",
    "---\n",
    "\n",
    "<table>\n",
    "<tr> \n",
    "<td><h3> Assignment : </td>\n",
    "<td><h3> 5 </td>\n",
    "</tr>\n",
    "<tr> \n",
    "<td><h3> Title : </td>\n",
    "<td><h3> Synthetic data generation using Variational Autoencoder </td>\n",
    "</tr>\n",
    "<tr> \n",
    "<td><h3> Team Details : </td>\n",
    "<td>\n",
    "\n",
    "<table>\n",
    "<tr>\n",
    "<th> <h3> Name </th>\n",
    "<th> <h3> Roll Number </th>\n",
    "</tr>\n",
    "\n",
    "\n",
    "\n",
    "<tr> \n",
    "<td><h5> Preethi G </td>\n",
    "<td><h5> AI23MTECH14005 </td>\n",
    "</tr>\n",
    "<tr> \n",
    "<td><h5> Sumukha B G </td>\n",
    "<td><h5> AI23MTECH14006 </td>\n",
    "</tr>\n",
    "<tr> \n",
    "<td><h5> Amma Karthikeya </td>\n",
    "<td><h5> AI23MTECH14001 </td>\n",
    "</tr>\n",
    "<tr> \n",
    "<td><h5> Jaya Sree </td>\n",
    "<td><h5> AI23MTECH14007 </td>\n",
    "</tr>\n",
    "<tr> \n",
    "<td><h5> Adithiyan U </td>\n",
    "<td><h5> AI23MTECH11001 </td>\n",
    "</tr>\n",
    "\n",
    "<table>\n",
    "\n",
    "\n",
    "\n",
    "</td>\n",
    "</tr>\n",
    "<table>"
   ]
  },
  {
   "cell_type": "markdown",
   "metadata": {},
   "source": [
    "1. Max 5 members for each group.\n",
    "2. Attached is a Credit card dataset containing credit card transactions.\n",
    "3. You can use the label encoding for columns (exc. amount).\n",
    "4. Develop a Vational Autoencoder-based synthetic data generation model, as discussed in the class.\n",
    "5. Generate 2 Million transactions from the trained model.\n",
    "6. Evaluate the performance of the model by plotting the distribution of each of the columns (real vs synthetic), and calculating the metrics as discussed in the class."
   ]
  },
  {
   "cell_type": "code",
   "execution_count": 53,
   "metadata": {},
   "outputs": [],
   "source": [
    "import numpy as np\n",
    "import pandas as pd\n",
    "import tensorflow as tf\n",
    "from sklearn.model_selection import train_test_split\n",
    "from sklearn.preprocessing import StandardScaler\n",
    "from tensorflow.keras.layers import Input, Dense, Lambda, Layer\n",
    "from tensorflow.keras.models import Model\n",
    "from tensorflow.keras.losses import mse\n",
    "from tensorflow.keras.optimizers import Adam\n",
    "from tensorflow.keras.callbacks import EarlyStopping\n",
    "import matplotlib.pyplot as plt\n",
    "import seaborn as sns\n",
    "from sklearn.preprocessing import LabelEncoder, MinMaxScaler\n",
    "from sklearn.model_selection import train_test_split\n",
    "from keras.layers import Input, Dense, Lambda\n",
    "from keras.models import Model\n",
    "from keras import backend as K\n",
    "\n",
    "import warnings\n",
    "warnings.filterwarnings(\"ignore\")\n"
   ]
  },
  {
   "cell_type": "code",
   "execution_count": 2,
   "metadata": {},
   "outputs": [
    {
     "data": {
      "text/plain": [
       "(2555190, 15)"
      ]
     },
     "execution_count": 2,
     "metadata": {},
     "output_type": "execute_result"
    }
   ],
   "source": [
    "df = pd.read_csv('card_transaction.v1.csv')\n",
    "df.shape"
   ]
  },
  {
   "cell_type": "code",
   "execution_count": 3,
   "metadata": {},
   "outputs": [
    {
     "data": {
      "text/html": [
       "<div>\n",
       "<style scoped>\n",
       "    .dataframe tbody tr th:only-of-type {\n",
       "        vertical-align: middle;\n",
       "    }\n",
       "\n",
       "    .dataframe tbody tr th {\n",
       "        vertical-align: top;\n",
       "    }\n",
       "\n",
       "    .dataframe thead th {\n",
       "        text-align: right;\n",
       "    }\n",
       "</style>\n",
       "<table border=\"1\" class=\"dataframe\">\n",
       "  <thead>\n",
       "    <tr style=\"text-align: right;\">\n",
       "      <th></th>\n",
       "      <th>User</th>\n",
       "      <th>Card</th>\n",
       "      <th>Year</th>\n",
       "      <th>Month</th>\n",
       "      <th>Day</th>\n",
       "      <th>Time</th>\n",
       "      <th>Amount</th>\n",
       "      <th>Use Chip</th>\n",
       "      <th>Merchant Name</th>\n",
       "      <th>Merchant City</th>\n",
       "      <th>Merchant State</th>\n",
       "      <th>Zip</th>\n",
       "      <th>MCC</th>\n",
       "      <th>Errors?</th>\n",
       "      <th>Is Fraud?</th>\n",
       "    </tr>\n",
       "  </thead>\n",
       "  <tbody>\n",
       "    <tr>\n",
       "      <th>0</th>\n",
       "      <td>0</td>\n",
       "      <td>0</td>\n",
       "      <td>2002</td>\n",
       "      <td>9</td>\n",
       "      <td>1</td>\n",
       "      <td>06:21</td>\n",
       "      <td>$134.09</td>\n",
       "      <td>Swipe Transaction</td>\n",
       "      <td>3.527213e+18</td>\n",
       "      <td>La Verne</td>\n",
       "      <td>CA</td>\n",
       "      <td>91750.0</td>\n",
       "      <td>5300.0</td>\n",
       "      <td>NaN</td>\n",
       "      <td>No</td>\n",
       "    </tr>\n",
       "    <tr>\n",
       "      <th>1</th>\n",
       "      <td>0</td>\n",
       "      <td>0</td>\n",
       "      <td>2002</td>\n",
       "      <td>9</td>\n",
       "      <td>1</td>\n",
       "      <td>06:42</td>\n",
       "      <td>$38.48</td>\n",
       "      <td>Swipe Transaction</td>\n",
       "      <td>-7.276121e+17</td>\n",
       "      <td>Monterey Park</td>\n",
       "      <td>CA</td>\n",
       "      <td>91754.0</td>\n",
       "      <td>5411.0</td>\n",
       "      <td>NaN</td>\n",
       "      <td>No</td>\n",
       "    </tr>\n",
       "    <tr>\n",
       "      <th>2</th>\n",
       "      <td>0</td>\n",
       "      <td>0</td>\n",
       "      <td>2002</td>\n",
       "      <td>9</td>\n",
       "      <td>2</td>\n",
       "      <td>06:22</td>\n",
       "      <td>$120.34</td>\n",
       "      <td>Swipe Transaction</td>\n",
       "      <td>-7.276121e+17</td>\n",
       "      <td>Monterey Park</td>\n",
       "      <td>CA</td>\n",
       "      <td>91754.0</td>\n",
       "      <td>5411.0</td>\n",
       "      <td>NaN</td>\n",
       "      <td>No</td>\n",
       "    </tr>\n",
       "    <tr>\n",
       "      <th>3</th>\n",
       "      <td>0</td>\n",
       "      <td>0</td>\n",
       "      <td>2002</td>\n",
       "      <td>9</td>\n",
       "      <td>2</td>\n",
       "      <td>17:45</td>\n",
       "      <td>$128.95</td>\n",
       "      <td>Swipe Transaction</td>\n",
       "      <td>3.414527e+18</td>\n",
       "      <td>Monterey Park</td>\n",
       "      <td>CA</td>\n",
       "      <td>91754.0</td>\n",
       "      <td>5651.0</td>\n",
       "      <td>NaN</td>\n",
       "      <td>No</td>\n",
       "    </tr>\n",
       "    <tr>\n",
       "      <th>4</th>\n",
       "      <td>0</td>\n",
       "      <td>0</td>\n",
       "      <td>2002</td>\n",
       "      <td>9</td>\n",
       "      <td>3</td>\n",
       "      <td>06:23</td>\n",
       "      <td>$104.71</td>\n",
       "      <td>Swipe Transaction</td>\n",
       "      <td>5.817218e+18</td>\n",
       "      <td>La Verne</td>\n",
       "      <td>CA</td>\n",
       "      <td>91750.0</td>\n",
       "      <td>5912.0</td>\n",
       "      <td>NaN</td>\n",
       "      <td>No</td>\n",
       "    </tr>\n",
       "    <tr>\n",
       "      <th>...</th>\n",
       "      <td>...</td>\n",
       "      <td>...</td>\n",
       "      <td>...</td>\n",
       "      <td>...</td>\n",
       "      <td>...</td>\n",
       "      <td>...</td>\n",
       "      <td>...</td>\n",
       "      <td>...</td>\n",
       "      <td>...</td>\n",
       "      <td>...</td>\n",
       "      <td>...</td>\n",
       "      <td>...</td>\n",
       "      <td>...</td>\n",
       "      <td>...</td>\n",
       "      <td>...</td>\n",
       "    </tr>\n",
       "    <tr>\n",
       "      <th>2555185</th>\n",
       "      <td>215</td>\n",
       "      <td>0</td>\n",
       "      <td>2006</td>\n",
       "      <td>11</td>\n",
       "      <td>14</td>\n",
       "      <td>07:19</td>\n",
       "      <td>$55.43</td>\n",
       "      <td>Swipe Transaction</td>\n",
       "      <td>4.591017e+18</td>\n",
       "      <td>Whitehouse Station</td>\n",
       "      <td>NJ</td>\n",
       "      <td>8889.0</td>\n",
       "      <td>7349.0</td>\n",
       "      <td>NaN</td>\n",
       "      <td>No</td>\n",
       "    </tr>\n",
       "    <tr>\n",
       "      <th>2555186</th>\n",
       "      <td>215</td>\n",
       "      <td>0</td>\n",
       "      <td>2006</td>\n",
       "      <td>11</td>\n",
       "      <td>14</td>\n",
       "      <td>07:52</td>\n",
       "      <td>$7.23</td>\n",
       "      <td>Swipe Transaction</td>\n",
       "      <td>5.205100e+18</td>\n",
       "      <td>North Brunswick</td>\n",
       "      <td>NJ</td>\n",
       "      <td>8902.0</td>\n",
       "      <td>5812.0</td>\n",
       "      <td>NaN</td>\n",
       "      <td>No</td>\n",
       "    </tr>\n",
       "    <tr>\n",
       "      <th>2555187</th>\n",
       "      <td>215</td>\n",
       "      <td>0</td>\n",
       "      <td>2006</td>\n",
       "      <td>11</td>\n",
       "      <td>14</td>\n",
       "      <td>08:55</td>\n",
       "      <td>$79.07</td>\n",
       "      <td>Swipe Transaction</td>\n",
       "      <td>8.384250e+17</td>\n",
       "      <td>New York</td>\n",
       "      <td>NY</td>\n",
       "      <td>10001.0</td>\n",
       "      <td>4814.0</td>\n",
       "      <td>NaN</td>\n",
       "      <td>No</td>\n",
       "    </tr>\n",
       "    <tr>\n",
       "      <th>2555188</th>\n",
       "      <td>215</td>\n",
       "      <td>0</td>\n",
       "      <td>2006</td>\n",
       "      <td>11</td>\n",
       "      <td>14</td>\n",
       "      <td>11:07</td>\n",
       "      <td>$22.05</td>\n",
       "      <td>Swipe Transaction</td>\n",
       "      <td>5.205100e+18</td>\n",
       "      <td>North Brunswick</td>\n",
       "      <td>NJ</td>\n",
       "      <td>8902.0</td>\n",
       "      <td>5812.0</td>\n",
       "      <td>NaN</td>\n",
       "      <td>No</td>\n",
       "    </tr>\n",
       "    <tr>\n",
       "      <th>2555189</th>\n",
       "      <td>215</td>\n",
       "      <td>0</td>\n",
       "      <td>2006</td>\n",
       "      <td>11</td>\n",
       "      <td>14</td>\n",
       "      <td>1</td>\n",
       "      <td>NaN</td>\n",
       "      <td>NaN</td>\n",
       "      <td>NaN</td>\n",
       "      <td>NaN</td>\n",
       "      <td>NaN</td>\n",
       "      <td>NaN</td>\n",
       "      <td>NaN</td>\n",
       "      <td>NaN</td>\n",
       "      <td>NaN</td>\n",
       "    </tr>\n",
       "  </tbody>\n",
       "</table>\n",
       "<p>2555190 rows × 15 columns</p>\n",
       "</div>"
      ],
      "text/plain": [
       "         User  Card  Year  Month  Day   Time   Amount           Use Chip  \\\n",
       "0           0     0  2002      9    1  06:21  $134.09  Swipe Transaction   \n",
       "1           0     0  2002      9    1  06:42   $38.48  Swipe Transaction   \n",
       "2           0     0  2002      9    2  06:22  $120.34  Swipe Transaction   \n",
       "3           0     0  2002      9    2  17:45  $128.95  Swipe Transaction   \n",
       "4           0     0  2002      9    3  06:23  $104.71  Swipe Transaction   \n",
       "...       ...   ...   ...    ...  ...    ...      ...                ...   \n",
       "2555185   215     0  2006     11   14  07:19   $55.43  Swipe Transaction   \n",
       "2555186   215     0  2006     11   14  07:52    $7.23  Swipe Transaction   \n",
       "2555187   215     0  2006     11   14  08:55   $79.07  Swipe Transaction   \n",
       "2555188   215     0  2006     11   14  11:07   $22.05  Swipe Transaction   \n",
       "2555189   215     0  2006     11   14      1      NaN                NaN   \n",
       "\n",
       "         Merchant Name       Merchant City Merchant State      Zip     MCC  \\\n",
       "0         3.527213e+18            La Verne             CA  91750.0  5300.0   \n",
       "1        -7.276121e+17       Monterey Park             CA  91754.0  5411.0   \n",
       "2        -7.276121e+17       Monterey Park             CA  91754.0  5411.0   \n",
       "3         3.414527e+18       Monterey Park             CA  91754.0  5651.0   \n",
       "4         5.817218e+18            La Verne             CA  91750.0  5912.0   \n",
       "...                ...                 ...            ...      ...     ...   \n",
       "2555185   4.591017e+18  Whitehouse Station             NJ   8889.0  7349.0   \n",
       "2555186   5.205100e+18     North Brunswick             NJ   8902.0  5812.0   \n",
       "2555187   8.384250e+17            New York             NY  10001.0  4814.0   \n",
       "2555188   5.205100e+18     North Brunswick             NJ   8902.0  5812.0   \n",
       "2555189            NaN                 NaN            NaN      NaN     NaN   \n",
       "\n",
       "        Errors? Is Fraud?  \n",
       "0           NaN        No  \n",
       "1           NaN        No  \n",
       "2           NaN        No  \n",
       "3           NaN        No  \n",
       "4           NaN        No  \n",
       "...         ...       ...  \n",
       "2555185     NaN        No  \n",
       "2555186     NaN        No  \n",
       "2555187     NaN        No  \n",
       "2555188     NaN        No  \n",
       "2555189     NaN       NaN  \n",
       "\n",
       "[2555190 rows x 15 columns]"
      ]
     },
     "execution_count": 3,
     "metadata": {},
     "output_type": "execute_result"
    }
   ],
   "source": [
    "df"
   ]
  },
  {
   "cell_type": "code",
   "execution_count": 4,
   "metadata": {},
   "outputs": [
    {
     "data": {
      "text/html": [
       "<div>\n",
       "<style scoped>\n",
       "    .dataframe tbody tr th:only-of-type {\n",
       "        vertical-align: middle;\n",
       "    }\n",
       "\n",
       "    .dataframe tbody tr th {\n",
       "        vertical-align: top;\n",
       "    }\n",
       "\n",
       "    .dataframe thead th {\n",
       "        text-align: right;\n",
       "    }\n",
       "</style>\n",
       "<table border=\"1\" class=\"dataframe\">\n",
       "  <thead>\n",
       "    <tr style=\"text-align: right;\">\n",
       "      <th></th>\n",
       "      <th>User</th>\n",
       "      <th>Card</th>\n",
       "      <th>Year</th>\n",
       "      <th>Month</th>\n",
       "      <th>Day</th>\n",
       "      <th>Merchant Name</th>\n",
       "      <th>Zip</th>\n",
       "      <th>MCC</th>\n",
       "    </tr>\n",
       "  </thead>\n",
       "  <tbody>\n",
       "    <tr>\n",
       "      <th>count</th>\n",
       "      <td>2.555190e+06</td>\n",
       "      <td>2.555190e+06</td>\n",
       "      <td>2.555190e+06</td>\n",
       "      <td>2.555190e+06</td>\n",
       "      <td>2.555190e+06</td>\n",
       "      <td>2.555189e+06</td>\n",
       "      <td>2.216985e+06</td>\n",
       "      <td>2.555189e+06</td>\n",
       "    </tr>\n",
       "    <tr>\n",
       "      <th>mean</th>\n",
       "      <td>1.020676e+02</td>\n",
       "      <td>1.238151e+00</td>\n",
       "      <td>2.011793e+03</td>\n",
       "      <td>6.520146e+00</td>\n",
       "      <td>1.571605e+01</td>\n",
       "      <td>-5.783186e+17</td>\n",
       "      <td>5.306903e+04</td>\n",
       "      <td>5.563812e+03</td>\n",
       "    </tr>\n",
       "    <tr>\n",
       "      <th>std</th>\n",
       "      <td>6.215434e+01</td>\n",
       "      <td>1.344876e+00</td>\n",
       "      <td>5.150918e+00</td>\n",
       "      <td>3.470954e+00</td>\n",
       "      <td>8.790976e+00</td>\n",
       "      <td>4.731351e+18</td>\n",
       "      <td>2.851758e+04</td>\n",
       "      <td>8.973669e+02</td>\n",
       "    </tr>\n",
       "    <tr>\n",
       "      <th>min</th>\n",
       "      <td>0.000000e+00</td>\n",
       "      <td>0.000000e+00</td>\n",
       "      <td>1.995000e+03</td>\n",
       "      <td>1.000000e+00</td>\n",
       "      <td>1.000000e+00</td>\n",
       "      <td>-9.222265e+18</td>\n",
       "      <td>1.001000e+03</td>\n",
       "      <td>1.711000e+03</td>\n",
       "    </tr>\n",
       "    <tr>\n",
       "      <th>25%</th>\n",
       "      <td>4.800000e+01</td>\n",
       "      <td>0.000000e+00</td>\n",
       "      <td>2.008000e+03</td>\n",
       "      <td>3.000000e+00</td>\n",
       "      <td>8.000000e+00</td>\n",
       "      <td>-4.693980e+18</td>\n",
       "      <td>3.053500e+04</td>\n",
       "      <td>5.300000e+03</td>\n",
       "    </tr>\n",
       "    <tr>\n",
       "      <th>50%</th>\n",
       "      <td>1.010000e+02</td>\n",
       "      <td>1.000000e+00</td>\n",
       "      <td>2.012000e+03</td>\n",
       "      <td>7.000000e+00</td>\n",
       "      <td>1.600000e+01</td>\n",
       "      <td>-9.844448e+17</td>\n",
       "      <td>4.837500e+04</td>\n",
       "      <td>5.499000e+03</td>\n",
       "    </tr>\n",
       "    <tr>\n",
       "      <th>75%</th>\n",
       "      <td>1.560000e+02</td>\n",
       "      <td>2.000000e+00</td>\n",
       "      <td>2.016000e+03</td>\n",
       "      <td>1.000000e+01</td>\n",
       "      <td>2.300000e+01</td>\n",
       "      <td>3.102660e+18</td>\n",
       "      <td>7.863300e+04</td>\n",
       "      <td>5.813000e+03</td>\n",
       "    </tr>\n",
       "    <tr>\n",
       "      <th>max</th>\n",
       "      <td>2.150000e+02</td>\n",
       "      <td>8.000000e+00</td>\n",
       "      <td>2.020000e+03</td>\n",
       "      <td>1.200000e+01</td>\n",
       "      <td>3.100000e+01</td>\n",
       "      <td>9.222877e+18</td>\n",
       "      <td>9.992800e+04</td>\n",
       "      <td>9.402000e+03</td>\n",
       "    </tr>\n",
       "  </tbody>\n",
       "</table>\n",
       "</div>"
      ],
      "text/plain": [
       "               User          Card          Year         Month           Day  \\\n",
       "count  2.555190e+06  2.555190e+06  2.555190e+06  2.555190e+06  2.555190e+06   \n",
       "mean   1.020676e+02  1.238151e+00  2.011793e+03  6.520146e+00  1.571605e+01   \n",
       "std    6.215434e+01  1.344876e+00  5.150918e+00  3.470954e+00  8.790976e+00   \n",
       "min    0.000000e+00  0.000000e+00  1.995000e+03  1.000000e+00  1.000000e+00   \n",
       "25%    4.800000e+01  0.000000e+00  2.008000e+03  3.000000e+00  8.000000e+00   \n",
       "50%    1.010000e+02  1.000000e+00  2.012000e+03  7.000000e+00  1.600000e+01   \n",
       "75%    1.560000e+02  2.000000e+00  2.016000e+03  1.000000e+01  2.300000e+01   \n",
       "max    2.150000e+02  8.000000e+00  2.020000e+03  1.200000e+01  3.100000e+01   \n",
       "\n",
       "       Merchant Name           Zip           MCC  \n",
       "count   2.555189e+06  2.216985e+06  2.555189e+06  \n",
       "mean   -5.783186e+17  5.306903e+04  5.563812e+03  \n",
       "std     4.731351e+18  2.851758e+04  8.973669e+02  \n",
       "min    -9.222265e+18  1.001000e+03  1.711000e+03  \n",
       "25%    -4.693980e+18  3.053500e+04  5.300000e+03  \n",
       "50%    -9.844448e+17  4.837500e+04  5.499000e+03  \n",
       "75%     3.102660e+18  7.863300e+04  5.813000e+03  \n",
       "max     9.222877e+18  9.992800e+04  9.402000e+03  "
      ]
     },
     "execution_count": 4,
     "metadata": {},
     "output_type": "execute_result"
    }
   ],
   "source": [
    "df.describe()"
   ]
  },
  {
   "cell_type": "code",
   "execution_count": 5,
   "metadata": {},
   "outputs": [
    {
     "data": {
      "text/plain": [
       "User              False\n",
       "Card              False\n",
       "Year              False\n",
       "Month             False\n",
       "Day               False\n",
       "Time              False\n",
       "Amount             True\n",
       "Use Chip           True\n",
       "Merchant Name      True\n",
       "Merchant City      True\n",
       "Merchant State     True\n",
       "Zip                True\n",
       "MCC                True\n",
       "Errors?            True\n",
       "Is Fraud?          True\n",
       "dtype: bool"
      ]
     },
     "execution_count": 5,
     "metadata": {},
     "output_type": "execute_result"
    }
   ],
   "source": [
    "df.isnull().any()"
   ]
  },
  {
   "cell_type": "code",
   "execution_count": 6,
   "metadata": {},
   "outputs": [
    {
     "data": {
      "text/plain": [
       "User                    0\n",
       "Card                    0\n",
       "Year                    0\n",
       "Month                   0\n",
       "Day                     0\n",
       "Time                    0\n",
       "Amount                  1\n",
       "Use Chip                1\n",
       "Merchant Name           1\n",
       "Merchant City           1\n",
       "Merchant State     321041\n",
       "Zip                338205\n",
       "MCC                     1\n",
       "Errors?           2515428\n",
       "Is Fraud?               1\n",
       "dtype: int64"
      ]
     },
     "execution_count": 6,
     "metadata": {},
     "output_type": "execute_result"
    }
   ],
   "source": [
    "df.isnull().sum()"
   ]
  },
  {
   "cell_type": "markdown",
   "metadata": {},
   "source": [
    "__Errors?__ field indicates if any error occured during transaction, and we can conclude NaN values mean no error occured, so we'll replace them with 'No error'. <br>\n",
    "\n",
    "__Merchant State__ provides info about international transactions which has been proven to be indicator of fraud transactions from previous research. After review of Merchant City column which doesn't provide clear info about international transactions, removing Merchant State column is not a good idea. <br>\n",
    "\n",
    "NaN values in Merchant state are only for ONLINE transactions as indicated in __Merchant City__ column, we will replace the NaN with 'ONLINE'. <br>\n",
    "\n",
    "__Zip__ code can be used to geocode Latitude, and Longtitude, which can be used for geographical visualization. Unfortunately geocoding is limited without API key, and permissions, and our dataset is large, this option is not possible. However we can still test this hypothesis with the State names, and countries in __Merchant State__ column. Therefore we will drop the __Zip__ column altogether.\n"
   ]
  },
  {
   "cell_type": "code",
   "execution_count": 7,
   "metadata": {},
   "outputs": [
    {
     "data": {
      "text/plain": [
       "User              False\n",
       "Card              False\n",
       "Year              False\n",
       "Month             False\n",
       "Day               False\n",
       "Time              False\n",
       "Amount            False\n",
       "Use Chip          False\n",
       "Merchant Name     False\n",
       "Merchant City     False\n",
       "Merchant State    False\n",
       "Zip               False\n",
       "MCC               False\n",
       "Errors?            True\n",
       "Is Fraud?         False\n",
       "dtype: bool"
      ]
     },
     "execution_count": 7,
     "metadata": {},
     "output_type": "execute_result"
    }
   ],
   "source": [
    "# Drop Null Values\n",
    "df = df.dropna(subset=['Amount', 'Use Chip', 'Merchant Name', 'Merchant City', 'MCC', 'Is Fraud?', 'Zip'])\n",
    "df.isnull().any()"
   ]
  },
  {
   "cell_type": "code",
   "execution_count": 8,
   "metadata": {},
   "outputs": [
    {
     "data": {
      "text/plain": [
       "Errors?\n",
       "Insufficient Balance,                     21466\n",
       "Bad PIN,                                   5994\n",
       "Technical Glitch,                          4510\n",
       "Bad Zipcode,                                187\n",
       "Insufficient Balance,Technical Glitch,       46\n",
       "Bad PIN,Insufficient Balance,                44\n",
       "Bad PIN,Technical Glitch,                    19\n",
       "Name: count, dtype: int64"
      ]
     },
     "execution_count": 8,
     "metadata": {},
     "output_type": "execute_result"
    }
   ],
   "source": [
    "df['Errors?'].value_counts()"
   ]
  },
  {
   "cell_type": "code",
   "execution_count": 9,
   "metadata": {},
   "outputs": [],
   "source": [
    "df['Errors?']=df['Errors?'].fillna('No Errors')"
   ]
  },
  {
   "cell_type": "code",
   "execution_count": 10,
   "metadata": {},
   "outputs": [
    {
     "data": {
      "text/plain": [
       "array(['CA', 'NE', 'IL', 'MO', 'IA', 'TX', 'NJ', 'NV', 'NY', 'AZ', 'UT',\n",
       "       'FL', 'MI', 'WA', 'OH', 'NM', 'SC', 'AK', 'PA', 'VA', 'HI', 'CT',\n",
       "       'MA', 'MN', 'CO', 'GA', 'AR', 'OR', 'WI', 'NC', 'WV', 'ME', 'NH',\n",
       "       'VT', 'MD', 'AL', 'KY', 'TN', 'MS', 'KS', 'ND', 'DC', 'MT', 'OK',\n",
       "       'WY', 'ID', 'RI', 'IN', 'LA', 'DE', 'SD'], dtype=object)"
      ]
     },
     "execution_count": 10,
     "metadata": {},
     "output_type": "execute_result"
    }
   ],
   "source": [
    "# The NaN values in Merchant State indicates that the 'Use Chip' was 'Online Transaction' where 'Merchant City' is ONLINE \n",
    "df['Merchant State'].unique()"
   ]
  },
  {
   "cell_type": "code",
   "execution_count": 11,
   "metadata": {},
   "outputs": [
    {
     "data": {
      "text/plain": [
       "Series([], Name: count, dtype: int64)"
      ]
     },
     "execution_count": 11,
     "metadata": {},
     "output_type": "execute_result"
    }
   ],
   "source": [
    "# Creating a boolean mask to filter USA states\n",
    "usa_states = df['Merchant State'].isin(['OH', 'PA', 'KY', 'NJ', 'CA', 'IL', 'NY', 'MI', 'FL', 'TX',\n",
    "       'GA', 'CO', 'WI', 'TN', 'VT', 'MD', 'AL', 'IN', 'IA', 'AZ', 'WA',\n",
    "       'AR', 'NC', 'MA', 'NV', 'MN', 'NE', 'HI', 'SC', 'ID', 'MS', 'KS',\n",
    "       'LA', 'MO', 'DE', 'VA', 'CT', 'NM', 'OK', 'OR', 'MT',\n",
    "       'ME', 'NH', 'UT', 'RI', 'WV', 'SD', 'DC', 'ND', 'AK', 'WY', 'AA'])\n",
    "\n",
    "# Creating a boolean mast to filter countries outside the USA\n",
    "non_usa = ~usa_states\n",
    "\n",
    "usa_count = df.loc[usa_states, 'Is Fraud?'].value_counts()\n",
    "nonusa_count = df.loc[non_usa, 'Is Fraud?'].value_counts()\n",
    "nonusa_count"
   ]
  },
  {
   "cell_type": "code",
   "execution_count": 12,
   "metadata": {},
   "outputs": [
    {
     "data": {
      "text/plain": [
       "array(['La Verne', 'Monterey Park', 'Mira Loma', ..., 'Berkshire',\n",
       "       'Blodgett Mills', 'Scott Air Force Base'], dtype=object)"
      ]
     },
     "execution_count": 12,
     "metadata": {},
     "output_type": "execute_result"
    }
   ],
   "source": [
    "df['Merchant City'].unique()"
   ]
  },
  {
   "cell_type": "code",
   "execution_count": 13,
   "metadata": {},
   "outputs": [],
   "source": [
    "df.loc[df['Merchant State'].isnull(), 'Merchant State'] = 'ONLINE'\n"
   ]
  },
  {
   "cell_type": "code",
   "execution_count": 14,
   "metadata": {},
   "outputs": [
    {
     "data": {
      "text/plain": [
       "User              False\n",
       "Card              False\n",
       "Year              False\n",
       "Month             False\n",
       "Day               False\n",
       "Time              False\n",
       "Amount            False\n",
       "Use Chip          False\n",
       "Merchant Name     False\n",
       "Merchant City     False\n",
       "Merchant State    False\n",
       "Zip               False\n",
       "MCC               False\n",
       "Errors?           False\n",
       "Is Fraud?         False\n",
       "dtype: bool"
      ]
     },
     "execution_count": 14,
     "metadata": {},
     "output_type": "execute_result"
    }
   ],
   "source": [
    "df.isnull().any()"
   ]
  },
  {
   "cell_type": "code",
   "execution_count": 15,
   "metadata": {},
   "outputs": [
    {
     "data": {
      "text/plain": [
       "Is Fraud?\n",
       "No     2216462\n",
       "Yes        523\n",
       "Name: count, dtype: int64"
      ]
     },
     "execution_count": 15,
     "metadata": {},
     "output_type": "execute_result"
    }
   ],
   "source": [
    "df['Is Fraud?'].value_counts()"
   ]
  },
  {
   "cell_type": "code",
   "execution_count": 16,
   "metadata": {},
   "outputs": [],
   "source": [
    "df.loc[:, 'Is Fraud?'] = df['Is Fraud?'].str.replace('No', '0')\n",
    "df.loc[:, 'Is Fraud?'] = df['Is Fraud?'].str.replace('Yes', '1')"
   ]
  },
  {
   "cell_type": "code",
   "execution_count": 17,
   "metadata": {},
   "outputs": [],
   "source": [
    "df['Is Fraud?'] = df['Is Fraud?'].astype(int)"
   ]
  },
  {
   "cell_type": "code",
   "execution_count": 18,
   "metadata": {},
   "outputs": [
    {
     "data": {
      "text/plain": [
       "Is Fraud?\n",
       "0    2216462\n",
       "1        523\n",
       "Name: count, dtype: int64"
      ]
     },
     "execution_count": 18,
     "metadata": {},
     "output_type": "execute_result"
    }
   ],
   "source": [
    "df['Is Fraud?'].value_counts()"
   ]
  },
  {
   "cell_type": "code",
   "execution_count": 19,
   "metadata": {},
   "outputs": [
    {
     "data": {
      "text/plain": [
       "User                int64\n",
       "Card                int64\n",
       "Year                int64\n",
       "Month               int64\n",
       "Day                 int64\n",
       "Time               object\n",
       "Amount             object\n",
       "Use Chip           object\n",
       "Merchant Name     float64\n",
       "Merchant City      object\n",
       "Merchant State     object\n",
       "Zip               float64\n",
       "MCC               float64\n",
       "Errors?            object\n",
       "Is Fraud?           int32\n",
       "dtype: object"
      ]
     },
     "execution_count": 19,
     "metadata": {},
     "output_type": "execute_result"
    }
   ],
   "source": [
    "df.dtypes"
   ]
  },
  {
   "cell_type": "markdown",
   "metadata": {},
   "source": [
    "__Amount__ is object as it contains $, we'll turn it to numeric."
   ]
  },
  {
   "cell_type": "code",
   "execution_count": 20,
   "metadata": {},
   "outputs": [],
   "source": [
    "df['Amount'] = df['Amount'].apply(lambda value: value.split(\"$\")[1])\n",
    "df['Amount'] = pd.to_numeric(df['Amount'], errors='coerce')"
   ]
  },
  {
   "cell_type": "code",
   "execution_count": 21,
   "metadata": {},
   "outputs": [],
   "source": [
    "label_encoder = LabelEncoder()\n",
    "df['Use Chip'] = label_encoder.fit_transform(df['Use Chip']).astype(int)\n",
    "df['Merchant City'] = label_encoder.fit_transform(df['Merchant City']).astype(int)\n",
    "df['Merchant State'] = label_encoder.fit_transform(df['Merchant State']).astype(int)\n",
    "df['Errors?'] = label_encoder.fit_transform(df['Errors?']).astype(int)"
   ]
  },
  {
   "cell_type": "code",
   "execution_count": 22,
   "metadata": {},
   "outputs": [
    {
     "data": {
      "text/plain": [
       "User                int64\n",
       "Card                int64\n",
       "Year                int64\n",
       "Month               int64\n",
       "Day                 int64\n",
       "Time               object\n",
       "Amount            float64\n",
       "Use Chip            int32\n",
       "Merchant Name     float64\n",
       "Merchant City       int32\n",
       "Merchant State      int32\n",
       "Zip               float64\n",
       "MCC               float64\n",
       "Errors?             int32\n",
       "Is Fraud?           int32\n",
       "dtype: object"
      ]
     },
     "execution_count": 22,
     "metadata": {},
     "output_type": "execute_result"
    }
   ],
   "source": [
    "df.dtypes"
   ]
  },
  {
   "cell_type": "code",
   "execution_count": 23,
   "metadata": {},
   "outputs": [],
   "source": [
    "df = df.drop(['Time'], axis=1)"
   ]
  },
  {
   "cell_type": "markdown",
   "metadata": {},
   "source": [
    "Scaling"
   ]
  },
  {
   "cell_type": "code",
   "execution_count": 24,
   "metadata": {},
   "outputs": [
    {
     "data": {
      "text/html": [
       "<div>\n",
       "<style scoped>\n",
       "    .dataframe tbody tr th:only-of-type {\n",
       "        vertical-align: middle;\n",
       "    }\n",
       "\n",
       "    .dataframe tbody tr th {\n",
       "        vertical-align: top;\n",
       "    }\n",
       "\n",
       "    .dataframe thead th {\n",
       "        text-align: right;\n",
       "    }\n",
       "</style>\n",
       "<table border=\"1\" class=\"dataframe\">\n",
       "  <thead>\n",
       "    <tr style=\"text-align: right;\">\n",
       "      <th></th>\n",
       "      <th>User</th>\n",
       "      <th>Card</th>\n",
       "      <th>Year</th>\n",
       "      <th>Month</th>\n",
       "      <th>Day</th>\n",
       "      <th>Amount</th>\n",
       "      <th>Use Chip</th>\n",
       "      <th>Merchant Name</th>\n",
       "      <th>Merchant City</th>\n",
       "      <th>Merchant State</th>\n",
       "      <th>Zip</th>\n",
       "      <th>MCC</th>\n",
       "      <th>Errors?</th>\n",
       "      <th>Is Fraud?</th>\n",
       "    </tr>\n",
       "  </thead>\n",
       "  <tbody>\n",
       "    <tr>\n",
       "      <th>0</th>\n",
       "      <td>0.0</td>\n",
       "      <td>0.0</td>\n",
       "      <td>0.28</td>\n",
       "      <td>0.727273</td>\n",
       "      <td>0.000000</td>\n",
       "      <td>0.086622</td>\n",
       "      <td>1.0</td>\n",
       "      <td>0.691211</td>\n",
       "      <td>0.467562</td>\n",
       "      <td>0.08</td>\n",
       "      <td>0.917333</td>\n",
       "      <td>0.466649</td>\n",
       "      <td>0.857143</td>\n",
       "      <td>0.0</td>\n",
       "    </tr>\n",
       "    <tr>\n",
       "      <th>1</th>\n",
       "      <td>0.0</td>\n",
       "      <td>0.0</td>\n",
       "      <td>0.28</td>\n",
       "      <td>0.727273</td>\n",
       "      <td>0.000000</td>\n",
       "      <td>0.073561</td>\n",
       "      <td>1.0</td>\n",
       "      <td>0.460536</td>\n",
       "      <td>0.582470</td>\n",
       "      <td>0.08</td>\n",
       "      <td>0.917373</td>\n",
       "      <td>0.481082</td>\n",
       "      <td>0.857143</td>\n",
       "      <td>0.0</td>\n",
       "    </tr>\n",
       "    <tr>\n",
       "      <th>2</th>\n",
       "      <td>0.0</td>\n",
       "      <td>0.0</td>\n",
       "      <td>0.28</td>\n",
       "      <td>0.727273</td>\n",
       "      <td>0.033333</td>\n",
       "      <td>0.084744</td>\n",
       "      <td>1.0</td>\n",
       "      <td>0.460536</td>\n",
       "      <td>0.582470</td>\n",
       "      <td>0.08</td>\n",
       "      <td>0.917373</td>\n",
       "      <td>0.481082</td>\n",
       "      <td>0.857143</td>\n",
       "      <td>0.0</td>\n",
       "    </tr>\n",
       "    <tr>\n",
       "      <th>3</th>\n",
       "      <td>0.0</td>\n",
       "      <td>0.0</td>\n",
       "      <td>0.28</td>\n",
       "      <td>0.727273</td>\n",
       "      <td>0.033333</td>\n",
       "      <td>0.085920</td>\n",
       "      <td>1.0</td>\n",
       "      <td>0.685101</td>\n",
       "      <td>0.582470</td>\n",
       "      <td>0.08</td>\n",
       "      <td>0.917373</td>\n",
       "      <td>0.512287</td>\n",
       "      <td>0.857143</td>\n",
       "      <td>0.0</td>\n",
       "    </tr>\n",
       "    <tr>\n",
       "      <th>4</th>\n",
       "      <td>0.0</td>\n",
       "      <td>0.0</td>\n",
       "      <td>0.28</td>\n",
       "      <td>0.727273</td>\n",
       "      <td>0.066667</td>\n",
       "      <td>0.082608</td>\n",
       "      <td>1.0</td>\n",
       "      <td>0.815363</td>\n",
       "      <td>0.467562</td>\n",
       "      <td>0.08</td>\n",
       "      <td>0.917333</td>\n",
       "      <td>0.546223</td>\n",
       "      <td>0.857143</td>\n",
       "      <td>0.0</td>\n",
       "    </tr>\n",
       "  </tbody>\n",
       "</table>\n",
       "</div>"
      ],
      "text/plain": [
       "   User  Card  Year     Month       Day    Amount  Use Chip  Merchant Name  \\\n",
       "0   0.0   0.0  0.28  0.727273  0.000000  0.086622       1.0       0.691211   \n",
       "1   0.0   0.0  0.28  0.727273  0.000000  0.073561       1.0       0.460536   \n",
       "2   0.0   0.0  0.28  0.727273  0.033333  0.084744       1.0       0.460536   \n",
       "3   0.0   0.0  0.28  0.727273  0.033333  0.085920       1.0       0.685101   \n",
       "4   0.0   0.0  0.28  0.727273  0.066667  0.082608       1.0       0.815363   \n",
       "\n",
       "   Merchant City  Merchant State       Zip       MCC   Errors?  Is Fraud?  \n",
       "0       0.467562            0.08  0.917333  0.466649  0.857143        0.0  \n",
       "1       0.582470            0.08  0.917373  0.481082  0.857143        0.0  \n",
       "2       0.582470            0.08  0.917373  0.481082  0.857143        0.0  \n",
       "3       0.582470            0.08  0.917373  0.512287  0.857143        0.0  \n",
       "4       0.467562            0.08  0.917333  0.546223  0.857143        0.0  "
      ]
     },
     "execution_count": 24,
     "metadata": {},
     "output_type": "execute_result"
    }
   ],
   "source": [
    "# copy the data\n",
    "norm_df = pd.DataFrame(MinMaxScaler().fit_transform(df), columns=df.columns)\n",
    "norm_df.head()"
   ]
  },
  {
   "cell_type": "markdown",
   "metadata": {},
   "source": [
    "### VAE"
   ]
  },
  {
   "cell_type": "code",
   "execution_count": 25,
   "metadata": {},
   "outputs": [
    {
     "name": "stdout",
     "output_type": "stream",
     "text": [
      "Num GPUs Available:  0\n"
     ]
    }
   ],
   "source": [
    "import tensorflow \n",
    "from tensorflow import keras\n",
    "from tensorflow.keras import layers\n",
    "\n",
    "tensorflow.config.run_functions_eagerly(True)\n",
    "\n",
    "print(\"Num GPUs Available: \", len(tensorflow.config.list_physical_devices('GPU')))"
   ]
  },
  {
   "cell_type": "code",
   "execution_count": 26,
   "metadata": {},
   "outputs": [
    {
     "name": "stdout",
     "output_type": "stream",
     "text": [
      "WARNING:tensorflow:From C:\\Users\\preet\\AppData\\Roaming\\Python\\Python312\\site-packages\\keras\\src\\backend\\tensorflow\\core.py:187: The name tf.placeholder is deprecated. Please use tf.compat.v1.placeholder instead.\n",
      "\n"
     ]
    },
    {
     "data": {
      "text/html": [
       "<pre style=\"white-space:pre;overflow-x:auto;line-height:normal;font-family:Menlo,'DejaVu Sans Mono',consolas,'Courier New',monospace\"><span style=\"font-weight: bold\">Model: \"encoder_model\"</span>\n",
       "</pre>\n"
      ],
      "text/plain": [
       "\u001b[1mModel: \"encoder_model\"\u001b[0m\n"
      ]
     },
     "metadata": {},
     "output_type": "display_data"
    },
    {
     "data": {
      "text/html": [
       "<pre style=\"white-space:pre;overflow-x:auto;line-height:normal;font-family:Menlo,'DejaVu Sans Mono',consolas,'Courier New',monospace\">┏━━━━━━━━━━━━━━━━━━━━━┳━━━━━━━━━━━━━━━━━━━┳━━━━━━━━━━━━┳━━━━━━━━━━━━━━━━━━━┓\n",
       "┃<span style=\"font-weight: bold\"> Layer (type)        </span>┃<span style=\"font-weight: bold\"> Output Shape      </span>┃<span style=\"font-weight: bold\">    Param # </span>┃<span style=\"font-weight: bold\"> Connected to      </span>┃\n",
       "┡━━━━━━━━━━━━━━━━━━━━━╇━━━━━━━━━━━━━━━━━━━╇━━━━━━━━━━━━╇━━━━━━━━━━━━━━━━━━━┩\n",
       "│ encoder_input       │ (<span style=\"color: #00d7ff; text-decoration-color: #00d7ff\">None</span>, <span style=\"color: #00af00; text-decoration-color: #00af00\">14</span>, <span style=\"color: #00af00; text-decoration-color: #00af00\">1</span>, <span style=\"color: #00af00; text-decoration-color: #00af00\">1</span>)  │          <span style=\"color: #00af00; text-decoration-color: #00af00\">0</span> │ -                 │\n",
       "│ (<span style=\"color: #0087ff; text-decoration-color: #0087ff\">InputLayer</span>)        │                   │            │                   │\n",
       "├─────────────────────┼───────────────────┼────────────┼───────────────────┤\n",
       "│ encoder_conv_1      │ (<span style=\"color: #00d7ff; text-decoration-color: #00d7ff\">None</span>, <span style=\"color: #00af00; text-decoration-color: #00af00\">14</span>, <span style=\"color: #00af00; text-decoration-color: #00af00\">1</span>, <span style=\"color: #00af00; text-decoration-color: #00af00\">1</span>)  │         <span style=\"color: #00af00; text-decoration-color: #00af00\">10</span> │ encoder_input[<span style=\"color: #00af00; text-decoration-color: #00af00\">0</span>]… │\n",
       "│ (<span style=\"color: #0087ff; text-decoration-color: #0087ff\">Conv2D</span>)            │                   │            │                   │\n",
       "├─────────────────────┼───────────────────┼────────────┼───────────────────┤\n",
       "│ encoder_norm_1      │ (<span style=\"color: #00d7ff; text-decoration-color: #00d7ff\">None</span>, <span style=\"color: #00af00; text-decoration-color: #00af00\">14</span>, <span style=\"color: #00af00; text-decoration-color: #00af00\">1</span>, <span style=\"color: #00af00; text-decoration-color: #00af00\">1</span>)  │          <span style=\"color: #00af00; text-decoration-color: #00af00\">4</span> │ encoder_conv_1[<span style=\"color: #00af00; text-decoration-color: #00af00\">0</span>… │\n",
       "│ (<span style=\"color: #0087ff; text-decoration-color: #0087ff\">BatchNormalizatio…</span> │                   │            │                   │\n",
       "├─────────────────────┼───────────────────┼────────────┼───────────────────┤\n",
       "│ encoder_leakyrelu_1 │ (<span style=\"color: #00d7ff; text-decoration-color: #00d7ff\">None</span>, <span style=\"color: #00af00; text-decoration-color: #00af00\">14</span>, <span style=\"color: #00af00; text-decoration-color: #00af00\">1</span>, <span style=\"color: #00af00; text-decoration-color: #00af00\">1</span>)  │          <span style=\"color: #00af00; text-decoration-color: #00af00\">0</span> │ encoder_norm_1[<span style=\"color: #00af00; text-decoration-color: #00af00\">0</span>… │\n",
       "│ (<span style=\"color: #0087ff; text-decoration-color: #0087ff\">LeakyReLU</span>)         │                   │            │                   │\n",
       "├─────────────────────┼───────────────────┼────────────┼───────────────────┤\n",
       "│ encoder_conv_2      │ (<span style=\"color: #00d7ff; text-decoration-color: #00d7ff\">None</span>, <span style=\"color: #00af00; text-decoration-color: #00af00\">14</span>, <span style=\"color: #00af00; text-decoration-color: #00af00\">1</span>, <span style=\"color: #00af00; text-decoration-color: #00af00\">32</span>) │        <span style=\"color: #00af00; text-decoration-color: #00af00\">320</span> │ encoder_leakyrel… │\n",
       "│ (<span style=\"color: #0087ff; text-decoration-color: #0087ff\">Conv2D</span>)            │                   │            │                   │\n",
       "├─────────────────────┼───────────────────┼────────────┼───────────────────┤\n",
       "│ encoder_norm_2      │ (<span style=\"color: #00d7ff; text-decoration-color: #00d7ff\">None</span>, <span style=\"color: #00af00; text-decoration-color: #00af00\">14</span>, <span style=\"color: #00af00; text-decoration-color: #00af00\">1</span>, <span style=\"color: #00af00; text-decoration-color: #00af00\">32</span>) │        <span style=\"color: #00af00; text-decoration-color: #00af00\">128</span> │ encoder_conv_2[<span style=\"color: #00af00; text-decoration-color: #00af00\">0</span>… │\n",
       "│ (<span style=\"color: #0087ff; text-decoration-color: #0087ff\">BatchNormalizatio…</span> │                   │            │                   │\n",
       "├─────────────────────┼───────────────────┼────────────┼───────────────────┤\n",
       "│ encoder_activ_laye… │ (<span style=\"color: #00d7ff; text-decoration-color: #00d7ff\">None</span>, <span style=\"color: #00af00; text-decoration-color: #00af00\">14</span>, <span style=\"color: #00af00; text-decoration-color: #00af00\">1</span>, <span style=\"color: #00af00; text-decoration-color: #00af00\">32</span>) │          <span style=\"color: #00af00; text-decoration-color: #00af00\">0</span> │ encoder_norm_2[<span style=\"color: #00af00; text-decoration-color: #00af00\">0</span>… │\n",
       "│ (<span style=\"color: #0087ff; text-decoration-color: #0087ff\">LeakyReLU</span>)         │                   │            │                   │\n",
       "├─────────────────────┼───────────────────┼────────────┼───────────────────┤\n",
       "│ encoder_conv_3      │ (<span style=\"color: #00d7ff; text-decoration-color: #00d7ff\">None</span>, <span style=\"color: #00af00; text-decoration-color: #00af00\">7</span>, <span style=\"color: #00af00; text-decoration-color: #00af00\">1</span>, <span style=\"color: #00af00; text-decoration-color: #00af00\">64</span>)  │     <span style=\"color: #00af00; text-decoration-color: #00af00\">18,496</span> │ encoder_activ_la… │\n",
       "│ (<span style=\"color: #0087ff; text-decoration-color: #0087ff\">Conv2D</span>)            │                   │            │                   │\n",
       "├─────────────────────┼───────────────────┼────────────┼───────────────────┤\n",
       "│ encoder_norm_3      │ (<span style=\"color: #00d7ff; text-decoration-color: #00d7ff\">None</span>, <span style=\"color: #00af00; text-decoration-color: #00af00\">7</span>, <span style=\"color: #00af00; text-decoration-color: #00af00\">1</span>, <span style=\"color: #00af00; text-decoration-color: #00af00\">64</span>)  │        <span style=\"color: #00af00; text-decoration-color: #00af00\">256</span> │ encoder_conv_3[<span style=\"color: #00af00; text-decoration-color: #00af00\">0</span>… │\n",
       "│ (<span style=\"color: #0087ff; text-decoration-color: #0087ff\">BatchNormalizatio…</span> │                   │            │                   │\n",
       "├─────────────────────┼───────────────────┼────────────┼───────────────────┤\n",
       "│ encoder_activ_laye… │ (<span style=\"color: #00d7ff; text-decoration-color: #00d7ff\">None</span>, <span style=\"color: #00af00; text-decoration-color: #00af00\">7</span>, <span style=\"color: #00af00; text-decoration-color: #00af00\">1</span>, <span style=\"color: #00af00; text-decoration-color: #00af00\">64</span>)  │          <span style=\"color: #00af00; text-decoration-color: #00af00\">0</span> │ encoder_norm_3[<span style=\"color: #00af00; text-decoration-color: #00af00\">0</span>… │\n",
       "│ (<span style=\"color: #0087ff; text-decoration-color: #0087ff\">LeakyReLU</span>)         │                   │            │                   │\n",
       "├─────────────────────┼───────────────────┼────────────┼───────────────────┤\n",
       "│ encoder_conv_4      │ (<span style=\"color: #00d7ff; text-decoration-color: #00d7ff\">None</span>, <span style=\"color: #00af00; text-decoration-color: #00af00\">4</span>, <span style=\"color: #00af00; text-decoration-color: #00af00\">1</span>, <span style=\"color: #00af00; text-decoration-color: #00af00\">64</span>)  │     <span style=\"color: #00af00; text-decoration-color: #00af00\">36,928</span> │ encoder_activ_la… │\n",
       "│ (<span style=\"color: #0087ff; text-decoration-color: #0087ff\">Conv2D</span>)            │                   │            │                   │\n",
       "├─────────────────────┼───────────────────┼────────────┼───────────────────┤\n",
       "│ encoder_norm_4      │ (<span style=\"color: #00d7ff; text-decoration-color: #00d7ff\">None</span>, <span style=\"color: #00af00; text-decoration-color: #00af00\">4</span>, <span style=\"color: #00af00; text-decoration-color: #00af00\">1</span>, <span style=\"color: #00af00; text-decoration-color: #00af00\">64</span>)  │        <span style=\"color: #00af00; text-decoration-color: #00af00\">256</span> │ encoder_conv_4[<span style=\"color: #00af00; text-decoration-color: #00af00\">0</span>… │\n",
       "│ (<span style=\"color: #0087ff; text-decoration-color: #0087ff\">BatchNormalizatio…</span> │                   │            │                   │\n",
       "├─────────────────────┼───────────────────┼────────────┼───────────────────┤\n",
       "│ encoder_activ_laye… │ (<span style=\"color: #00d7ff; text-decoration-color: #00d7ff\">None</span>, <span style=\"color: #00af00; text-decoration-color: #00af00\">4</span>, <span style=\"color: #00af00; text-decoration-color: #00af00\">1</span>, <span style=\"color: #00af00; text-decoration-color: #00af00\">64</span>)  │          <span style=\"color: #00af00; text-decoration-color: #00af00\">0</span> │ encoder_norm_4[<span style=\"color: #00af00; text-decoration-color: #00af00\">0</span>… │\n",
       "│ (<span style=\"color: #0087ff; text-decoration-color: #0087ff\">LeakyReLU</span>)         │                   │            │                   │\n",
       "├─────────────────────┼───────────────────┼────────────┼───────────────────┤\n",
       "│ encoder_conv_5      │ (<span style=\"color: #00d7ff; text-decoration-color: #00d7ff\">None</span>, <span style=\"color: #00af00; text-decoration-color: #00af00\">4</span>, <span style=\"color: #00af00; text-decoration-color: #00af00\">1</span>, <span style=\"color: #00af00; text-decoration-color: #00af00\">64</span>)  │     <span style=\"color: #00af00; text-decoration-color: #00af00\">36,928</span> │ encoder_activ_la… │\n",
       "│ (<span style=\"color: #0087ff; text-decoration-color: #0087ff\">Conv2D</span>)            │                   │            │                   │\n",
       "├─────────────────────┼───────────────────┼────────────┼───────────────────┤\n",
       "│ encoder_norm_5      │ (<span style=\"color: #00d7ff; text-decoration-color: #00d7ff\">None</span>, <span style=\"color: #00af00; text-decoration-color: #00af00\">4</span>, <span style=\"color: #00af00; text-decoration-color: #00af00\">1</span>, <span style=\"color: #00af00; text-decoration-color: #00af00\">64</span>)  │        <span style=\"color: #00af00; text-decoration-color: #00af00\">256</span> │ encoder_conv_5[<span style=\"color: #00af00; text-decoration-color: #00af00\">0</span>… │\n",
       "│ (<span style=\"color: #0087ff; text-decoration-color: #0087ff\">BatchNormalizatio…</span> │                   │            │                   │\n",
       "├─────────────────────┼───────────────────┼────────────┼───────────────────┤\n",
       "│ encoder_activ_laye… │ (<span style=\"color: #00d7ff; text-decoration-color: #00d7ff\">None</span>, <span style=\"color: #00af00; text-decoration-color: #00af00\">4</span>, <span style=\"color: #00af00; text-decoration-color: #00af00\">1</span>, <span style=\"color: #00af00; text-decoration-color: #00af00\">64</span>)  │          <span style=\"color: #00af00; text-decoration-color: #00af00\">0</span> │ encoder_norm_5[<span style=\"color: #00af00; text-decoration-color: #00af00\">0</span>… │\n",
       "│ (<span style=\"color: #0087ff; text-decoration-color: #0087ff\">LeakyReLU</span>)         │                   │            │                   │\n",
       "├─────────────────────┼───────────────────┼────────────┼───────────────────┤\n",
       "│ flatten (<span style=\"color: #0087ff; text-decoration-color: #0087ff\">Flatten</span>)   │ (<span style=\"color: #00d7ff; text-decoration-color: #00d7ff\">None</span>, <span style=\"color: #00af00; text-decoration-color: #00af00\">256</span>)       │          <span style=\"color: #00af00; text-decoration-color: #00af00\">0</span> │ encoder_activ_la… │\n",
       "├─────────────────────┼───────────────────┼────────────┼───────────────────┤\n",
       "│ encoder_mu (<span style=\"color: #0087ff; text-decoration-color: #0087ff\">Dense</span>)  │ (<span style=\"color: #00d7ff; text-decoration-color: #00d7ff\">None</span>, <span style=\"color: #00af00; text-decoration-color: #00af00\">2</span>)         │        <span style=\"color: #00af00; text-decoration-color: #00af00\">514</span> │ flatten[<span style=\"color: #00af00; text-decoration-color: #00af00\">0</span>][<span style=\"color: #00af00; text-decoration-color: #00af00\">0</span>]     │\n",
       "├─────────────────────┼───────────────────┼────────────┼───────────────────┤\n",
       "│ encoder_log_varian… │ (<span style=\"color: #00d7ff; text-decoration-color: #00d7ff\">None</span>, <span style=\"color: #00af00; text-decoration-color: #00af00\">2</span>)         │        <span style=\"color: #00af00; text-decoration-color: #00af00\">514</span> │ flatten[<span style=\"color: #00af00; text-decoration-color: #00af00\">0</span>][<span style=\"color: #00af00; text-decoration-color: #00af00\">0</span>]     │\n",
       "│ (<span style=\"color: #0087ff; text-decoration-color: #0087ff\">Dense</span>)             │                   │            │                   │\n",
       "├─────────────────────┼───────────────────┼────────────┼───────────────────┤\n",
       "│ encoder_output      │ (<span style=\"color: #00d7ff; text-decoration-color: #00d7ff\">None</span>, <span style=\"color: #00af00; text-decoration-color: #00af00\">2</span>)         │          <span style=\"color: #00af00; text-decoration-color: #00af00\">0</span> │ encoder_mu[<span style=\"color: #00af00; text-decoration-color: #00af00\">0</span>][<span style=\"color: #00af00; text-decoration-color: #00af00\">0</span>], │\n",
       "│ (<span style=\"color: #0087ff; text-decoration-color: #0087ff\">Lambda</span>)            │                   │            │ encoder_log_vari… │\n",
       "└─────────────────────┴───────────────────┴────────────┴───────────────────┘\n",
       "</pre>\n"
      ],
      "text/plain": [
       "┏━━━━━━━━━━━━━━━━━━━━━┳━━━━━━━━━━━━━━━━━━━┳━━━━━━━━━━━━┳━━━━━━━━━━━━━━━━━━━┓\n",
       "┃\u001b[1m \u001b[0m\u001b[1mLayer (type)       \u001b[0m\u001b[1m \u001b[0m┃\u001b[1m \u001b[0m\u001b[1mOutput Shape     \u001b[0m\u001b[1m \u001b[0m┃\u001b[1m \u001b[0m\u001b[1m   Param #\u001b[0m\u001b[1m \u001b[0m┃\u001b[1m \u001b[0m\u001b[1mConnected to     \u001b[0m\u001b[1m \u001b[0m┃\n",
       "┡━━━━━━━━━━━━━━━━━━━━━╇━━━━━━━━━━━━━━━━━━━╇━━━━━━━━━━━━╇━━━━━━━━━━━━━━━━━━━┩\n",
       "│ encoder_input       │ (\u001b[38;5;45mNone\u001b[0m, \u001b[38;5;34m14\u001b[0m, \u001b[38;5;34m1\u001b[0m, \u001b[38;5;34m1\u001b[0m)  │          \u001b[38;5;34m0\u001b[0m │ -                 │\n",
       "│ (\u001b[38;5;33mInputLayer\u001b[0m)        │                   │            │                   │\n",
       "├─────────────────────┼───────────────────┼────────────┼───────────────────┤\n",
       "│ encoder_conv_1      │ (\u001b[38;5;45mNone\u001b[0m, \u001b[38;5;34m14\u001b[0m, \u001b[38;5;34m1\u001b[0m, \u001b[38;5;34m1\u001b[0m)  │         \u001b[38;5;34m10\u001b[0m │ encoder_input[\u001b[38;5;34m0\u001b[0m]… │\n",
       "│ (\u001b[38;5;33mConv2D\u001b[0m)            │                   │            │                   │\n",
       "├─────────────────────┼───────────────────┼────────────┼───────────────────┤\n",
       "│ encoder_norm_1      │ (\u001b[38;5;45mNone\u001b[0m, \u001b[38;5;34m14\u001b[0m, \u001b[38;5;34m1\u001b[0m, \u001b[38;5;34m1\u001b[0m)  │          \u001b[38;5;34m4\u001b[0m │ encoder_conv_1[\u001b[38;5;34m0\u001b[0m… │\n",
       "│ (\u001b[38;5;33mBatchNormalizatio…\u001b[0m │                   │            │                   │\n",
       "├─────────────────────┼───────────────────┼────────────┼───────────────────┤\n",
       "│ encoder_leakyrelu_1 │ (\u001b[38;5;45mNone\u001b[0m, \u001b[38;5;34m14\u001b[0m, \u001b[38;5;34m1\u001b[0m, \u001b[38;5;34m1\u001b[0m)  │          \u001b[38;5;34m0\u001b[0m │ encoder_norm_1[\u001b[38;5;34m0\u001b[0m… │\n",
       "│ (\u001b[38;5;33mLeakyReLU\u001b[0m)         │                   │            │                   │\n",
       "├─────────────────────┼───────────────────┼────────────┼───────────────────┤\n",
       "│ encoder_conv_2      │ (\u001b[38;5;45mNone\u001b[0m, \u001b[38;5;34m14\u001b[0m, \u001b[38;5;34m1\u001b[0m, \u001b[38;5;34m32\u001b[0m) │        \u001b[38;5;34m320\u001b[0m │ encoder_leakyrel… │\n",
       "│ (\u001b[38;5;33mConv2D\u001b[0m)            │                   │            │                   │\n",
       "├─────────────────────┼───────────────────┼────────────┼───────────────────┤\n",
       "│ encoder_norm_2      │ (\u001b[38;5;45mNone\u001b[0m, \u001b[38;5;34m14\u001b[0m, \u001b[38;5;34m1\u001b[0m, \u001b[38;5;34m32\u001b[0m) │        \u001b[38;5;34m128\u001b[0m │ encoder_conv_2[\u001b[38;5;34m0\u001b[0m… │\n",
       "│ (\u001b[38;5;33mBatchNormalizatio…\u001b[0m │                   │            │                   │\n",
       "├─────────────────────┼───────────────────┼────────────┼───────────────────┤\n",
       "│ encoder_activ_laye… │ (\u001b[38;5;45mNone\u001b[0m, \u001b[38;5;34m14\u001b[0m, \u001b[38;5;34m1\u001b[0m, \u001b[38;5;34m32\u001b[0m) │          \u001b[38;5;34m0\u001b[0m │ encoder_norm_2[\u001b[38;5;34m0\u001b[0m… │\n",
       "│ (\u001b[38;5;33mLeakyReLU\u001b[0m)         │                   │            │                   │\n",
       "├─────────────────────┼───────────────────┼────────────┼───────────────────┤\n",
       "│ encoder_conv_3      │ (\u001b[38;5;45mNone\u001b[0m, \u001b[38;5;34m7\u001b[0m, \u001b[38;5;34m1\u001b[0m, \u001b[38;5;34m64\u001b[0m)  │     \u001b[38;5;34m18,496\u001b[0m │ encoder_activ_la… │\n",
       "│ (\u001b[38;5;33mConv2D\u001b[0m)            │                   │            │                   │\n",
       "├─────────────────────┼───────────────────┼────────────┼───────────────────┤\n",
       "│ encoder_norm_3      │ (\u001b[38;5;45mNone\u001b[0m, \u001b[38;5;34m7\u001b[0m, \u001b[38;5;34m1\u001b[0m, \u001b[38;5;34m64\u001b[0m)  │        \u001b[38;5;34m256\u001b[0m │ encoder_conv_3[\u001b[38;5;34m0\u001b[0m… │\n",
       "│ (\u001b[38;5;33mBatchNormalizatio…\u001b[0m │                   │            │                   │\n",
       "├─────────────────────┼───────────────────┼────────────┼───────────────────┤\n",
       "│ encoder_activ_laye… │ (\u001b[38;5;45mNone\u001b[0m, \u001b[38;5;34m7\u001b[0m, \u001b[38;5;34m1\u001b[0m, \u001b[38;5;34m64\u001b[0m)  │          \u001b[38;5;34m0\u001b[0m │ encoder_norm_3[\u001b[38;5;34m0\u001b[0m… │\n",
       "│ (\u001b[38;5;33mLeakyReLU\u001b[0m)         │                   │            │                   │\n",
       "├─────────────────────┼───────────────────┼────────────┼───────────────────┤\n",
       "│ encoder_conv_4      │ (\u001b[38;5;45mNone\u001b[0m, \u001b[38;5;34m4\u001b[0m, \u001b[38;5;34m1\u001b[0m, \u001b[38;5;34m64\u001b[0m)  │     \u001b[38;5;34m36,928\u001b[0m │ encoder_activ_la… │\n",
       "│ (\u001b[38;5;33mConv2D\u001b[0m)            │                   │            │                   │\n",
       "├─────────────────────┼───────────────────┼────────────┼───────────────────┤\n",
       "│ encoder_norm_4      │ (\u001b[38;5;45mNone\u001b[0m, \u001b[38;5;34m4\u001b[0m, \u001b[38;5;34m1\u001b[0m, \u001b[38;5;34m64\u001b[0m)  │        \u001b[38;5;34m256\u001b[0m │ encoder_conv_4[\u001b[38;5;34m0\u001b[0m… │\n",
       "│ (\u001b[38;5;33mBatchNormalizatio…\u001b[0m │                   │            │                   │\n",
       "├─────────────────────┼───────────────────┼────────────┼───────────────────┤\n",
       "│ encoder_activ_laye… │ (\u001b[38;5;45mNone\u001b[0m, \u001b[38;5;34m4\u001b[0m, \u001b[38;5;34m1\u001b[0m, \u001b[38;5;34m64\u001b[0m)  │          \u001b[38;5;34m0\u001b[0m │ encoder_norm_4[\u001b[38;5;34m0\u001b[0m… │\n",
       "│ (\u001b[38;5;33mLeakyReLU\u001b[0m)         │                   │            │                   │\n",
       "├─────────────────────┼───────────────────┼────────────┼───────────────────┤\n",
       "│ encoder_conv_5      │ (\u001b[38;5;45mNone\u001b[0m, \u001b[38;5;34m4\u001b[0m, \u001b[38;5;34m1\u001b[0m, \u001b[38;5;34m64\u001b[0m)  │     \u001b[38;5;34m36,928\u001b[0m │ encoder_activ_la… │\n",
       "│ (\u001b[38;5;33mConv2D\u001b[0m)            │                   │            │                   │\n",
       "├─────────────────────┼───────────────────┼────────────┼───────────────────┤\n",
       "│ encoder_norm_5      │ (\u001b[38;5;45mNone\u001b[0m, \u001b[38;5;34m4\u001b[0m, \u001b[38;5;34m1\u001b[0m, \u001b[38;5;34m64\u001b[0m)  │        \u001b[38;5;34m256\u001b[0m │ encoder_conv_5[\u001b[38;5;34m0\u001b[0m… │\n",
       "│ (\u001b[38;5;33mBatchNormalizatio…\u001b[0m │                   │            │                   │\n",
       "├─────────────────────┼───────────────────┼────────────┼───────────────────┤\n",
       "│ encoder_activ_laye… │ (\u001b[38;5;45mNone\u001b[0m, \u001b[38;5;34m4\u001b[0m, \u001b[38;5;34m1\u001b[0m, \u001b[38;5;34m64\u001b[0m)  │          \u001b[38;5;34m0\u001b[0m │ encoder_norm_5[\u001b[38;5;34m0\u001b[0m… │\n",
       "│ (\u001b[38;5;33mLeakyReLU\u001b[0m)         │                   │            │                   │\n",
       "├─────────────────────┼───────────────────┼────────────┼───────────────────┤\n",
       "│ flatten (\u001b[38;5;33mFlatten\u001b[0m)   │ (\u001b[38;5;45mNone\u001b[0m, \u001b[38;5;34m256\u001b[0m)       │          \u001b[38;5;34m0\u001b[0m │ encoder_activ_la… │\n",
       "├─────────────────────┼───────────────────┼────────────┼───────────────────┤\n",
       "│ encoder_mu (\u001b[38;5;33mDense\u001b[0m)  │ (\u001b[38;5;45mNone\u001b[0m, \u001b[38;5;34m2\u001b[0m)         │        \u001b[38;5;34m514\u001b[0m │ flatten[\u001b[38;5;34m0\u001b[0m][\u001b[38;5;34m0\u001b[0m]     │\n",
       "├─────────────────────┼───────────────────┼────────────┼───────────────────┤\n",
       "│ encoder_log_varian… │ (\u001b[38;5;45mNone\u001b[0m, \u001b[38;5;34m2\u001b[0m)         │        \u001b[38;5;34m514\u001b[0m │ flatten[\u001b[38;5;34m0\u001b[0m][\u001b[38;5;34m0\u001b[0m]     │\n",
       "│ (\u001b[38;5;33mDense\u001b[0m)             │                   │            │                   │\n",
       "├─────────────────────┼───────────────────┼────────────┼───────────────────┤\n",
       "│ encoder_output      │ (\u001b[38;5;45mNone\u001b[0m, \u001b[38;5;34m2\u001b[0m)         │          \u001b[38;5;34m0\u001b[0m │ encoder_mu[\u001b[38;5;34m0\u001b[0m][\u001b[38;5;34m0\u001b[0m], │\n",
       "│ (\u001b[38;5;33mLambda\u001b[0m)            │                   │            │ encoder_log_vari… │\n",
       "└─────────────────────┴───────────────────┴────────────┴───────────────────┘\n"
      ]
     },
     "metadata": {},
     "output_type": "display_data"
    },
    {
     "data": {
      "text/html": [
       "<pre style=\"white-space:pre;overflow-x:auto;line-height:normal;font-family:Menlo,'DejaVu Sans Mono',consolas,'Courier New',monospace\"><span style=\"font-weight: bold\"> Total params: </span><span style=\"color: #00af00; text-decoration-color: #00af00\">94,610</span> (369.57 KB)\n",
       "</pre>\n"
      ],
      "text/plain": [
       "\u001b[1m Total params: \u001b[0m\u001b[38;5;34m94,610\u001b[0m (369.57 KB)\n"
      ]
     },
     "metadata": {},
     "output_type": "display_data"
    },
    {
     "data": {
      "text/html": [
       "<pre style=\"white-space:pre;overflow-x:auto;line-height:normal;font-family:Menlo,'DejaVu Sans Mono',consolas,'Courier New',monospace\"><span style=\"font-weight: bold\"> Trainable params: </span><span style=\"color: #00af00; text-decoration-color: #00af00\">94,160</span> (367.81 KB)\n",
       "</pre>\n"
      ],
      "text/plain": [
       "\u001b[1m Trainable params: \u001b[0m\u001b[38;5;34m94,160\u001b[0m (367.81 KB)\n"
      ]
     },
     "metadata": {},
     "output_type": "display_data"
    },
    {
     "data": {
      "text/html": [
       "<pre style=\"white-space:pre;overflow-x:auto;line-height:normal;font-family:Menlo,'DejaVu Sans Mono',consolas,'Courier New',monospace\"><span style=\"font-weight: bold\"> Non-trainable params: </span><span style=\"color: #00af00; text-decoration-color: #00af00\">450</span> (1.76 KB)\n",
       "</pre>\n"
      ],
      "text/plain": [
       "\u001b[1m Non-trainable params: \u001b[0m\u001b[38;5;34m450\u001b[0m (1.76 KB)\n"
      ]
     },
     "metadata": {},
     "output_type": "display_data"
    }
   ],
   "source": [
    "img_size_1 = 14\n",
    "latent_space_dim = 2\n",
    "\n",
    "# Encoder\n",
    "x = tensorflow.keras.layers.Input(shape=(img_size_1, 1, 1), name=\"encoder_input\")\n",
    "\n",
    "encoder_conv_layer1 = tensorflow.keras.layers.Conv2D(filters=1, kernel_size=(3, 3), padding=\"same\", strides=1, name=\"encoder_conv_1\")(x)\n",
    "encoder_norm_layer1 = tensorflow.keras.layers.BatchNormalization(name=\"encoder_norm_1\")(encoder_conv_layer1)\n",
    "encoder_activ_layer1 = tensorflow.keras.layers.LeakyReLU(name=\"encoder_leakyrelu_1\")(encoder_norm_layer1)\n",
    "\n",
    "encoder_conv_layer2 = tensorflow.keras.layers.Conv2D(filters=32, kernel_size=(3,3), padding=\"same\", strides=1, name=\"encoder_conv_2\")(encoder_activ_layer1)\n",
    "encoder_norm_layer2 = tensorflow.keras.layers.BatchNormalization(name=\"encoder_norm_2\")(encoder_conv_layer2)\n",
    "encoder_activ_layer2 = tensorflow.keras.layers.LeakyReLU(name=\"encoder_activ_layer_2\")(encoder_norm_layer2)\n",
    "\n",
    "encoder_conv_layer3 = tensorflow.keras.layers.Conv2D(filters=64, kernel_size=(3,3), padding=\"same\", strides=2, name=\"encoder_conv_3\")(encoder_activ_layer2)\n",
    "encoder_norm_layer3 = tensorflow.keras.layers.BatchNormalization(name=\"encoder_norm_3\")(encoder_conv_layer3)\n",
    "encoder_activ_layer3 = tensorflow.keras.layers.LeakyReLU(name=\"encoder_activ_layer_3\")(encoder_norm_layer3)\n",
    "\n",
    "encoder_conv_layer4 = tensorflow.keras.layers.Conv2D(filters=64, kernel_size=(3,3), padding=\"same\", strides=2, name=\"encoder_conv_4\")(encoder_activ_layer3)\n",
    "encoder_norm_layer4 = tensorflow.keras.layers.BatchNormalization(name=\"encoder_norm_4\")(encoder_conv_layer4)\n",
    "encoder_activ_layer4 = tensorflow.keras.layers.LeakyReLU(name=\"encoder_activ_layer_4\")(encoder_norm_layer4)\n",
    "\n",
    "encoder_conv_layer5 = tensorflow.keras.layers.Conv2D(filters=64, kernel_size=(3,3), padding=\"same\", strides=1, name=\"encoder_conv_5\")(encoder_activ_layer4)\n",
    "encoder_norm_layer5 = tensorflow.keras.layers.BatchNormalization(name=\"encoder_norm_5\")(encoder_conv_layer5)\n",
    "encoder_activ_layer5 = tensorflow.keras.layers.LeakyReLU(name=\"encoder_activ_layer_5\")(encoder_norm_layer5)\n",
    "\n",
    "shape_before_flatten = tensorflow.keras.backend.int_shape(encoder_activ_layer5)[1:]\n",
    "encoder_flatten = tensorflow.keras.layers.Flatten()(encoder_activ_layer5)\n",
    "\n",
    "encoder_mu = tensorflow.keras.layers.Dense(units=latent_space_dim, name=\"encoder_mu\")(encoder_flatten)\n",
    "encoder_log_variance = tensorflow.keras.layers.Dense(units=latent_space_dim, name=\"encoder_log_variance\")(encoder_flatten)\n",
    "\n",
    "encoder_mu_log_variance_model = tensorflow.keras.models.Model(x, (encoder_mu, encoder_log_variance), name=\"encoder_mu_log_variance_model\")\n",
    "\n",
    "def sampling(mu_log_variance):\n",
    "    mu, log_variance = mu_log_variance\n",
    "    epsilon = tensorflow.keras.backend.random_normal(shape=tensorflow.keras.backend.shape(mu), mean=0.0, stddev=1.0)\n",
    "    random_sample = mu + tensorflow.keras.backend.exp(log_variance/2) * epsilon\n",
    "    return random_sample\n",
    "\n",
    "encoder_output = tensorflow.keras.layers.Lambda(sampling, name=\"encoder_output\")([encoder_mu, encoder_log_variance])\n",
    "\n",
    "encoder = tensorflow.keras.models.Model(x, encoder_output, name=\"encoder_model\")\n",
    "\n",
    "encoder.summary()"
   ]
  },
  {
   "cell_type": "code",
   "execution_count": 27,
   "metadata": {},
   "outputs": [
    {
     "data": {
      "text/html": [
       "<pre style=\"white-space:pre;overflow-x:auto;line-height:normal;font-family:Menlo,'DejaVu Sans Mono',consolas,'Courier New',monospace\"><span style=\"font-weight: bold\">Model: \"decoder_model\"</span>\n",
       "</pre>\n"
      ],
      "text/plain": [
       "\u001b[1mModel: \"decoder_model\"\u001b[0m\n"
      ]
     },
     "metadata": {},
     "output_type": "display_data"
    },
    {
     "data": {
      "text/html": [
       "<pre style=\"white-space:pre;overflow-x:auto;line-height:normal;font-family:Menlo,'DejaVu Sans Mono',consolas,'Courier New',monospace\">┏━━━━━━━━━━━━━━━━━━━━━━━━━━━━━━━━━┳━━━━━━━━━━━━━━━━━━━━━━━━┳━━━━━━━━━━━━━━━┓\n",
       "┃<span style=\"font-weight: bold\"> Layer (type)                    </span>┃<span style=\"font-weight: bold\"> Output Shape           </span>┃<span style=\"font-weight: bold\">       Param # </span>┃\n",
       "┡━━━━━━━━━━━━━━━━━━━━━━━━━━━━━━━━━╇━━━━━━━━━━━━━━━━━━━━━━━━╇━━━━━━━━━━━━━━━┩\n",
       "│ decoder_input (<span style=\"color: #0087ff; text-decoration-color: #0087ff\">InputLayer</span>)      │ (<span style=\"color: #00d7ff; text-decoration-color: #00d7ff\">None</span>, <span style=\"color: #00af00; text-decoration-color: #00af00\">2</span>)              │             <span style=\"color: #00af00; text-decoration-color: #00af00\">0</span> │\n",
       "├─────────────────────────────────┼────────────────────────┼───────────────┤\n",
       "│ decoder_dense_1 (<span style=\"color: #0087ff; text-decoration-color: #0087ff\">Dense</span>)         │ (<span style=\"color: #00d7ff; text-decoration-color: #00d7ff\">None</span>, <span style=\"color: #00af00; text-decoration-color: #00af00\">700</span>)            │         <span style=\"color: #00af00; text-decoration-color: #00af00\">2,100</span> │\n",
       "├─────────────────────────────────┼────────────────────────┼───────────────┤\n",
       "│ reshape (<span style=\"color: #0087ff; text-decoration-color: #0087ff\">Reshape</span>)               │ (<span style=\"color: #00d7ff; text-decoration-color: #00d7ff\">None</span>, <span style=\"color: #00af00; text-decoration-color: #00af00\">14</span>, <span style=\"color: #00af00; text-decoration-color: #00af00\">1</span>, <span style=\"color: #00af00; text-decoration-color: #00af00\">50</span>)      │             <span style=\"color: #00af00; text-decoration-color: #00af00\">0</span> │\n",
       "├─────────────────────────────────┼────────────────────────┼───────────────┤\n",
       "│ decoder_conv_tran_1             │ (<span style=\"color: #00d7ff; text-decoration-color: #00d7ff\">None</span>, <span style=\"color: #00af00; text-decoration-color: #00af00\">14</span>, <span style=\"color: #00af00; text-decoration-color: #00af00\">1</span>, <span style=\"color: #00af00; text-decoration-color: #00af00\">64</span>)      │        <span style=\"color: #00af00; text-decoration-color: #00af00\">28,864</span> │\n",
       "│ (<span style=\"color: #0087ff; text-decoration-color: #0087ff\">Conv2DTranspose</span>)               │                        │               │\n",
       "├─────────────────────────────────┼────────────────────────┼───────────────┤\n",
       "│ decoder_norm_1                  │ (<span style=\"color: #00d7ff; text-decoration-color: #00d7ff\">None</span>, <span style=\"color: #00af00; text-decoration-color: #00af00\">14</span>, <span style=\"color: #00af00; text-decoration-color: #00af00\">1</span>, <span style=\"color: #00af00; text-decoration-color: #00af00\">64</span>)      │           <span style=\"color: #00af00; text-decoration-color: #00af00\">256</span> │\n",
       "│ (<span style=\"color: #0087ff; text-decoration-color: #0087ff\">BatchNormalization</span>)            │                        │               │\n",
       "├─────────────────────────────────┼────────────────────────┼───────────────┤\n",
       "│ decoder_leakyrelu_1 (<span style=\"color: #0087ff; text-decoration-color: #0087ff\">LeakyReLU</span>) │ (<span style=\"color: #00d7ff; text-decoration-color: #00d7ff\">None</span>, <span style=\"color: #00af00; text-decoration-color: #00af00\">14</span>, <span style=\"color: #00af00; text-decoration-color: #00af00\">1</span>, <span style=\"color: #00af00; text-decoration-color: #00af00\">64</span>)      │             <span style=\"color: #00af00; text-decoration-color: #00af00\">0</span> │\n",
       "├─────────────────────────────────┼────────────────────────┼───────────────┤\n",
       "│ decoder_conv_tran_2             │ (<span style=\"color: #00d7ff; text-decoration-color: #00d7ff\">None</span>, <span style=\"color: #00af00; text-decoration-color: #00af00\">14</span>, <span style=\"color: #00af00; text-decoration-color: #00af00\">1</span>, <span style=\"color: #00af00; text-decoration-color: #00af00\">64</span>)      │        <span style=\"color: #00af00; text-decoration-color: #00af00\">36,928</span> │\n",
       "│ (<span style=\"color: #0087ff; text-decoration-color: #0087ff\">Conv2DTranspose</span>)               │                        │               │\n",
       "├─────────────────────────────────┼────────────────────────┼───────────────┤\n",
       "│ decoder_norm_2                  │ (<span style=\"color: #00d7ff; text-decoration-color: #00d7ff\">None</span>, <span style=\"color: #00af00; text-decoration-color: #00af00\">14</span>, <span style=\"color: #00af00; text-decoration-color: #00af00\">1</span>, <span style=\"color: #00af00; text-decoration-color: #00af00\">64</span>)      │           <span style=\"color: #00af00; text-decoration-color: #00af00\">256</span> │\n",
       "│ (<span style=\"color: #0087ff; text-decoration-color: #0087ff\">BatchNormalization</span>)            │                        │               │\n",
       "├─────────────────────────────────┼────────────────────────┼───────────────┤\n",
       "│ decoder_leakyrelu_2 (<span style=\"color: #0087ff; text-decoration-color: #0087ff\">LeakyReLU</span>) │ (<span style=\"color: #00d7ff; text-decoration-color: #00d7ff\">None</span>, <span style=\"color: #00af00; text-decoration-color: #00af00\">14</span>, <span style=\"color: #00af00; text-decoration-color: #00af00\">1</span>, <span style=\"color: #00af00; text-decoration-color: #00af00\">64</span>)      │             <span style=\"color: #00af00; text-decoration-color: #00af00\">0</span> │\n",
       "├─────────────────────────────────┼────────────────────────┼───────────────┤\n",
       "│ decoder_conv_tran_3             │ (<span style=\"color: #00d7ff; text-decoration-color: #00d7ff\">None</span>, <span style=\"color: #00af00; text-decoration-color: #00af00\">14</span>, <span style=\"color: #00af00; text-decoration-color: #00af00\">1</span>, <span style=\"color: #00af00; text-decoration-color: #00af00\">64</span>)      │        <span style=\"color: #00af00; text-decoration-color: #00af00\">36,928</span> │\n",
       "│ (<span style=\"color: #0087ff; text-decoration-color: #0087ff\">Conv2DTranspose</span>)               │                        │               │\n",
       "├─────────────────────────────────┼────────────────────────┼───────────────┤\n",
       "│ decoder_norm_3                  │ (<span style=\"color: #00d7ff; text-decoration-color: #00d7ff\">None</span>, <span style=\"color: #00af00; text-decoration-color: #00af00\">14</span>, <span style=\"color: #00af00; text-decoration-color: #00af00\">1</span>, <span style=\"color: #00af00; text-decoration-color: #00af00\">64</span>)      │           <span style=\"color: #00af00; text-decoration-color: #00af00\">256</span> │\n",
       "│ (<span style=\"color: #0087ff; text-decoration-color: #0087ff\">BatchNormalization</span>)            │                        │               │\n",
       "├─────────────────────────────────┼────────────────────────┼───────────────┤\n",
       "│ decoder_leakyrelu_3 (<span style=\"color: #0087ff; text-decoration-color: #0087ff\">LeakyReLU</span>) │ (<span style=\"color: #00d7ff; text-decoration-color: #00d7ff\">None</span>, <span style=\"color: #00af00; text-decoration-color: #00af00\">14</span>, <span style=\"color: #00af00; text-decoration-color: #00af00\">1</span>, <span style=\"color: #00af00; text-decoration-color: #00af00\">64</span>)      │             <span style=\"color: #00af00; text-decoration-color: #00af00\">0</span> │\n",
       "├─────────────────────────────────┼────────────────────────┼───────────────┤\n",
       "│ decoder_conv_tran_4             │ (<span style=\"color: #00d7ff; text-decoration-color: #00d7ff\">None</span>, <span style=\"color: #00af00; text-decoration-color: #00af00\">14</span>, <span style=\"color: #00af00; text-decoration-color: #00af00\">1</span>, <span style=\"color: #00af00; text-decoration-color: #00af00\">1</span>)       │           <span style=\"color: #00af00; text-decoration-color: #00af00\">257</span> │\n",
       "│ (<span style=\"color: #0087ff; text-decoration-color: #0087ff\">Conv2DTranspose</span>)               │                        │               │\n",
       "├─────────────────────────────────┼────────────────────────┼───────────────┤\n",
       "│ decoder_output (<span style=\"color: #0087ff; text-decoration-color: #0087ff\">LeakyReLU</span>)      │ (<span style=\"color: #00d7ff; text-decoration-color: #00d7ff\">None</span>, <span style=\"color: #00af00; text-decoration-color: #00af00\">14</span>, <span style=\"color: #00af00; text-decoration-color: #00af00\">1</span>, <span style=\"color: #00af00; text-decoration-color: #00af00\">1</span>)       │             <span style=\"color: #00af00; text-decoration-color: #00af00\">0</span> │\n",
       "└─────────────────────────────────┴────────────────────────┴───────────────┘\n",
       "</pre>\n"
      ],
      "text/plain": [
       "┏━━━━━━━━━━━━━━━━━━━━━━━━━━━━━━━━━┳━━━━━━━━━━━━━━━━━━━━━━━━┳━━━━━━━━━━━━━━━┓\n",
       "┃\u001b[1m \u001b[0m\u001b[1mLayer (type)                   \u001b[0m\u001b[1m \u001b[0m┃\u001b[1m \u001b[0m\u001b[1mOutput Shape          \u001b[0m\u001b[1m \u001b[0m┃\u001b[1m \u001b[0m\u001b[1m      Param #\u001b[0m\u001b[1m \u001b[0m┃\n",
       "┡━━━━━━━━━━━━━━━━━━━━━━━━━━━━━━━━━╇━━━━━━━━━━━━━━━━━━━━━━━━╇━━━━━━━━━━━━━━━┩\n",
       "│ decoder_input (\u001b[38;5;33mInputLayer\u001b[0m)      │ (\u001b[38;5;45mNone\u001b[0m, \u001b[38;5;34m2\u001b[0m)              │             \u001b[38;5;34m0\u001b[0m │\n",
       "├─────────────────────────────────┼────────────────────────┼───────────────┤\n",
       "│ decoder_dense_1 (\u001b[38;5;33mDense\u001b[0m)         │ (\u001b[38;5;45mNone\u001b[0m, \u001b[38;5;34m700\u001b[0m)            │         \u001b[38;5;34m2,100\u001b[0m │\n",
       "├─────────────────────────────────┼────────────────────────┼───────────────┤\n",
       "│ reshape (\u001b[38;5;33mReshape\u001b[0m)               │ (\u001b[38;5;45mNone\u001b[0m, \u001b[38;5;34m14\u001b[0m, \u001b[38;5;34m1\u001b[0m, \u001b[38;5;34m50\u001b[0m)      │             \u001b[38;5;34m0\u001b[0m │\n",
       "├─────────────────────────────────┼────────────────────────┼───────────────┤\n",
       "│ decoder_conv_tran_1             │ (\u001b[38;5;45mNone\u001b[0m, \u001b[38;5;34m14\u001b[0m, \u001b[38;5;34m1\u001b[0m, \u001b[38;5;34m64\u001b[0m)      │        \u001b[38;5;34m28,864\u001b[0m │\n",
       "│ (\u001b[38;5;33mConv2DTranspose\u001b[0m)               │                        │               │\n",
       "├─────────────────────────────────┼────────────────────────┼───────────────┤\n",
       "│ decoder_norm_1                  │ (\u001b[38;5;45mNone\u001b[0m, \u001b[38;5;34m14\u001b[0m, \u001b[38;5;34m1\u001b[0m, \u001b[38;5;34m64\u001b[0m)      │           \u001b[38;5;34m256\u001b[0m │\n",
       "│ (\u001b[38;5;33mBatchNormalization\u001b[0m)            │                        │               │\n",
       "├─────────────────────────────────┼────────────────────────┼───────────────┤\n",
       "│ decoder_leakyrelu_1 (\u001b[38;5;33mLeakyReLU\u001b[0m) │ (\u001b[38;5;45mNone\u001b[0m, \u001b[38;5;34m14\u001b[0m, \u001b[38;5;34m1\u001b[0m, \u001b[38;5;34m64\u001b[0m)      │             \u001b[38;5;34m0\u001b[0m │\n",
       "├─────────────────────────────────┼────────────────────────┼───────────────┤\n",
       "│ decoder_conv_tran_2             │ (\u001b[38;5;45mNone\u001b[0m, \u001b[38;5;34m14\u001b[0m, \u001b[38;5;34m1\u001b[0m, \u001b[38;5;34m64\u001b[0m)      │        \u001b[38;5;34m36,928\u001b[0m │\n",
       "│ (\u001b[38;5;33mConv2DTranspose\u001b[0m)               │                        │               │\n",
       "├─────────────────────────────────┼────────────────────────┼───────────────┤\n",
       "│ decoder_norm_2                  │ (\u001b[38;5;45mNone\u001b[0m, \u001b[38;5;34m14\u001b[0m, \u001b[38;5;34m1\u001b[0m, \u001b[38;5;34m64\u001b[0m)      │           \u001b[38;5;34m256\u001b[0m │\n",
       "│ (\u001b[38;5;33mBatchNormalization\u001b[0m)            │                        │               │\n",
       "├─────────────────────────────────┼────────────────────────┼───────────────┤\n",
       "│ decoder_leakyrelu_2 (\u001b[38;5;33mLeakyReLU\u001b[0m) │ (\u001b[38;5;45mNone\u001b[0m, \u001b[38;5;34m14\u001b[0m, \u001b[38;5;34m1\u001b[0m, \u001b[38;5;34m64\u001b[0m)      │             \u001b[38;5;34m0\u001b[0m │\n",
       "├─────────────────────────────────┼────────────────────────┼───────────────┤\n",
       "│ decoder_conv_tran_3             │ (\u001b[38;5;45mNone\u001b[0m, \u001b[38;5;34m14\u001b[0m, \u001b[38;5;34m1\u001b[0m, \u001b[38;5;34m64\u001b[0m)      │        \u001b[38;5;34m36,928\u001b[0m │\n",
       "│ (\u001b[38;5;33mConv2DTranspose\u001b[0m)               │                        │               │\n",
       "├─────────────────────────────────┼────────────────────────┼───────────────┤\n",
       "│ decoder_norm_3                  │ (\u001b[38;5;45mNone\u001b[0m, \u001b[38;5;34m14\u001b[0m, \u001b[38;5;34m1\u001b[0m, \u001b[38;5;34m64\u001b[0m)      │           \u001b[38;5;34m256\u001b[0m │\n",
       "│ (\u001b[38;5;33mBatchNormalization\u001b[0m)            │                        │               │\n",
       "├─────────────────────────────────┼────────────────────────┼───────────────┤\n",
       "│ decoder_leakyrelu_3 (\u001b[38;5;33mLeakyReLU\u001b[0m) │ (\u001b[38;5;45mNone\u001b[0m, \u001b[38;5;34m14\u001b[0m, \u001b[38;5;34m1\u001b[0m, \u001b[38;5;34m64\u001b[0m)      │             \u001b[38;5;34m0\u001b[0m │\n",
       "├─────────────────────────────────┼────────────────────────┼───────────────┤\n",
       "│ decoder_conv_tran_4             │ (\u001b[38;5;45mNone\u001b[0m, \u001b[38;5;34m14\u001b[0m, \u001b[38;5;34m1\u001b[0m, \u001b[38;5;34m1\u001b[0m)       │           \u001b[38;5;34m257\u001b[0m │\n",
       "│ (\u001b[38;5;33mConv2DTranspose\u001b[0m)               │                        │               │\n",
       "├─────────────────────────────────┼────────────────────────┼───────────────┤\n",
       "│ decoder_output (\u001b[38;5;33mLeakyReLU\u001b[0m)      │ (\u001b[38;5;45mNone\u001b[0m, \u001b[38;5;34m14\u001b[0m, \u001b[38;5;34m1\u001b[0m, \u001b[38;5;34m1\u001b[0m)       │             \u001b[38;5;34m0\u001b[0m │\n",
       "└─────────────────────────────────┴────────────────────────┴───────────────┘\n"
      ]
     },
     "metadata": {},
     "output_type": "display_data"
    },
    {
     "data": {
      "text/html": [
       "<pre style=\"white-space:pre;overflow-x:auto;line-height:normal;font-family:Menlo,'DejaVu Sans Mono',consolas,'Courier New',monospace\"><span style=\"font-weight: bold\"> Total params: </span><span style=\"color: #00af00; text-decoration-color: #00af00\">105,845</span> (413.46 KB)\n",
       "</pre>\n"
      ],
      "text/plain": [
       "\u001b[1m Total params: \u001b[0m\u001b[38;5;34m105,845\u001b[0m (413.46 KB)\n"
      ]
     },
     "metadata": {},
     "output_type": "display_data"
    },
    {
     "data": {
      "text/html": [
       "<pre style=\"white-space:pre;overflow-x:auto;line-height:normal;font-family:Menlo,'DejaVu Sans Mono',consolas,'Courier New',monospace\"><span style=\"font-weight: bold\"> Trainable params: </span><span style=\"color: #00af00; text-decoration-color: #00af00\">105,461</span> (411.96 KB)\n",
       "</pre>\n"
      ],
      "text/plain": [
       "\u001b[1m Trainable params: \u001b[0m\u001b[38;5;34m105,461\u001b[0m (411.96 KB)\n"
      ]
     },
     "metadata": {},
     "output_type": "display_data"
    },
    {
     "data": {
      "text/html": [
       "<pre style=\"white-space:pre;overflow-x:auto;line-height:normal;font-family:Menlo,'DejaVu Sans Mono',consolas,'Courier New',monospace\"><span style=\"font-weight: bold\"> Non-trainable params: </span><span style=\"color: #00af00; text-decoration-color: #00af00\">384</span> (1.50 KB)\n",
       "</pre>\n"
      ],
      "text/plain": [
       "\u001b[1m Non-trainable params: \u001b[0m\u001b[38;5;34m384\u001b[0m (1.50 KB)\n"
      ]
     },
     "metadata": {},
     "output_type": "display_data"
    }
   ],
   "source": [
    "decoder_input = tensorflow.keras.layers.Input(shape=(latent_space_dim,), name=\"decoder_input\")\n",
    "\n",
    "decoder_dense_layer1 = tensorflow.keras.layers.Dense(units=700, name=\"decoder_dense_1\")(decoder_input)\n",
    "decoder_reshape = tensorflow.keras.layers.Reshape(target_shape=(14,1,50))(decoder_dense_layer1)\n",
    "\n",
    "decoder_conv_tran_layer1 = tensorflow.keras.layers.Conv2DTranspose(filters=64, kernel_size=(3, 3), padding=\"same\", strides=1, name=\"decoder_conv_tran_1\")(decoder_reshape)\n",
    "decoder_norm_layer1 = tensorflow.keras.layers.BatchNormalization(name=\"decoder_norm_1\")(decoder_conv_tran_layer1)\n",
    "decoder_activ_layer1 = tensorflow.keras.layers.LeakyReLU(name=\"decoder_leakyrelu_1\")(decoder_norm_layer1)\n",
    "\n",
    "decoder_conv_tran_layer2 = tensorflow.keras.layers.Conv2DTranspose(filters=64, kernel_size=(3, 3), padding=\"same\", strides=1, name=\"decoder_conv_tran_2\")(decoder_activ_layer1)\n",
    "decoder_norm_layer2 = tensorflow.keras.layers.BatchNormalization(name=\"decoder_norm_2\")(decoder_conv_tran_layer2)\n",
    "decoder_activ_layer2 = tensorflow.keras.layers.LeakyReLU(name=\"decoder_leakyrelu_2\")(decoder_norm_layer2)\n",
    "\n",
    "decoder_conv_tran_layer3 = tensorflow.keras.layers.Conv2DTranspose(filters=64, kernel_size=(3, 3), padding=\"same\", strides=1, name=\"decoder_conv_tran_3\")(decoder_activ_layer2)\n",
    "decoder_norm_layer3 = tensorflow.keras.layers.BatchNormalization(name=\"decoder_norm_3\")(decoder_conv_tran_layer3)\n",
    "decoder_activ_layer3 = tensorflow.keras.layers.LeakyReLU(name=\"decoder_leakyrelu_3\")(decoder_norm_layer3)\n",
    "\n",
    "decoder_conv_tran_layer4 = tensorflow.keras.layers.Conv2DTranspose(filters=1, kernel_size=(2, 2), padding=\"same\", strides=1, name=\"decoder_conv_tran_4\")(decoder_activ_layer3)\n",
    "decoder_output = tensorflow.keras.layers.LeakyReLU(name=\"decoder_output\")(decoder_conv_tran_layer4 )\n",
    "decode = tensorflow.keras.layers.Reshape(target_shape=(14,1,1))\n",
    "decoder = tensorflow.keras.models.Model(decoder_input, decoder_output, name=\"decoder_model\")\n",
    " \n",
    "decoder.summary()"
   ]
  },
  {
   "cell_type": "code",
   "execution_count": 28,
   "metadata": {},
   "outputs": [],
   "source": [
    "def loss_func(encoder_mu, encoder_log_variance):\n",
    "    def vae_reconstruction_loss(y_true, y_predict):\n",
    "        \n",
    "        reconstruction_loss_factor = 1000\n",
    "        reconstruction_loss = tensorflow.keras.backend.mean(tensorflow.keras.backend.square(y_true-y_predict), axis=[1, 2, 3])\n",
    "        return reconstruction_loss_factor * reconstruction_loss\n",
    "\n",
    "    def vae_kl_loss(encoder_mu, encoder_log_variance):\n",
    "        kl_loss = -0.5 * tensorflow.keras.backend.sum(1.0 + encoder_log_variance - tensorflow.keras.backend.square(encoder_mu) - tensorflow.keras.backend.exp(encoder_log_variance), axis=1)\n",
    "        return kl_loss\n",
    "\n",
    "    def vae_kl_loss_metric(y_true, y_predict):\n",
    "        kl_loss = -0.5 * tensorflow.keras.backend.sum(1.0 + encoder_log_variance - tensorflow.keras.backend.square(encoder_mu) - tensorflow.keras.backend.exp(encoder_log_variance), axis=1)\n",
    "        return kl_loss\n",
    "\n",
    "    def vae_loss(y_true, y_predict):\n",
    "        reconstruction_loss = vae_reconstruction_loss(y_true, y_predict)\n",
    "        kl_loss = vae_kl_loss(y_true, y_predict)\n",
    "\n",
    "        loss = reconstruction_loss + kl_loss\n",
    "        return loss\n",
    "\n",
    "    return vae_loss"
   ]
  },
  {
   "cell_type": "code",
   "execution_count": 29,
   "metadata": {},
   "outputs": [
    {
     "data": {
      "text/html": [
       "<pre style=\"white-space:pre;overflow-x:auto;line-height:normal;font-family:Menlo,'DejaVu Sans Mono',consolas,'Courier New',monospace\"><span style=\"font-weight: bold\">Model: \"VAE\"</span>\n",
       "</pre>\n"
      ],
      "text/plain": [
       "\u001b[1mModel: \"VAE\"\u001b[0m\n"
      ]
     },
     "metadata": {},
     "output_type": "display_data"
    },
    {
     "data": {
      "text/html": [
       "<pre style=\"white-space:pre;overflow-x:auto;line-height:normal;font-family:Menlo,'DejaVu Sans Mono',consolas,'Courier New',monospace\">┏━━━━━━━━━━━━━━━━━━━━━━━━━━━━━━━━━┳━━━━━━━━━━━━━━━━━━━━━━━━┳━━━━━━━━━━━━━━━┓\n",
       "┃<span style=\"font-weight: bold\"> Layer (type)                    </span>┃<span style=\"font-weight: bold\"> Output Shape           </span>┃<span style=\"font-weight: bold\">       Param # </span>┃\n",
       "┡━━━━━━━━━━━━━━━━━━━━━━━━━━━━━━━━━╇━━━━━━━━━━━━━━━━━━━━━━━━╇━━━━━━━━━━━━━━━┩\n",
       "│ VAE_input (<span style=\"color: #0087ff; text-decoration-color: #0087ff\">InputLayer</span>)          │ (<span style=\"color: #00d7ff; text-decoration-color: #00d7ff\">None</span>, <span style=\"color: #00af00; text-decoration-color: #00af00\">14</span>, <span style=\"color: #00af00; text-decoration-color: #00af00\">1</span>, <span style=\"color: #00af00; text-decoration-color: #00af00\">1</span>)       │             <span style=\"color: #00af00; text-decoration-color: #00af00\">0</span> │\n",
       "├─────────────────────────────────┼────────────────────────┼───────────────┤\n",
       "│ encoder_model (<span style=\"color: #0087ff; text-decoration-color: #0087ff\">Functional</span>)      │ (<span style=\"color: #00d7ff; text-decoration-color: #00d7ff\">None</span>, <span style=\"color: #00af00; text-decoration-color: #00af00\">2</span>)              │        <span style=\"color: #00af00; text-decoration-color: #00af00\">94,610</span> │\n",
       "├─────────────────────────────────┼────────────────────────┼───────────────┤\n",
       "│ decoder_model (<span style=\"color: #0087ff; text-decoration-color: #0087ff\">Functional</span>)      │ (<span style=\"color: #00d7ff; text-decoration-color: #00d7ff\">None</span>, <span style=\"color: #00af00; text-decoration-color: #00af00\">14</span>, <span style=\"color: #00af00; text-decoration-color: #00af00\">1</span>, <span style=\"color: #00af00; text-decoration-color: #00af00\">1</span>)       │       <span style=\"color: #00af00; text-decoration-color: #00af00\">105,845</span> │\n",
       "└─────────────────────────────────┴────────────────────────┴───────────────┘\n",
       "</pre>\n"
      ],
      "text/plain": [
       "┏━━━━━━━━━━━━━━━━━━━━━━━━━━━━━━━━━┳━━━━━━━━━━━━━━━━━━━━━━━━┳━━━━━━━━━━━━━━━┓\n",
       "┃\u001b[1m \u001b[0m\u001b[1mLayer (type)                   \u001b[0m\u001b[1m \u001b[0m┃\u001b[1m \u001b[0m\u001b[1mOutput Shape          \u001b[0m\u001b[1m \u001b[0m┃\u001b[1m \u001b[0m\u001b[1m      Param #\u001b[0m\u001b[1m \u001b[0m┃\n",
       "┡━━━━━━━━━━━━━━━━━━━━━━━━━━━━━━━━━╇━━━━━━━━━━━━━━━━━━━━━━━━╇━━━━━━━━━━━━━━━┩\n",
       "│ VAE_input (\u001b[38;5;33mInputLayer\u001b[0m)          │ (\u001b[38;5;45mNone\u001b[0m, \u001b[38;5;34m14\u001b[0m, \u001b[38;5;34m1\u001b[0m, \u001b[38;5;34m1\u001b[0m)       │             \u001b[38;5;34m0\u001b[0m │\n",
       "├─────────────────────────────────┼────────────────────────┼───────────────┤\n",
       "│ encoder_model (\u001b[38;5;33mFunctional\u001b[0m)      │ (\u001b[38;5;45mNone\u001b[0m, \u001b[38;5;34m2\u001b[0m)              │        \u001b[38;5;34m94,610\u001b[0m │\n",
       "├─────────────────────────────────┼────────────────────────┼───────────────┤\n",
       "│ decoder_model (\u001b[38;5;33mFunctional\u001b[0m)      │ (\u001b[38;5;45mNone\u001b[0m, \u001b[38;5;34m14\u001b[0m, \u001b[38;5;34m1\u001b[0m, \u001b[38;5;34m1\u001b[0m)       │       \u001b[38;5;34m105,845\u001b[0m │\n",
       "└─────────────────────────────────┴────────────────────────┴───────────────┘\n"
      ]
     },
     "metadata": {},
     "output_type": "display_data"
    },
    {
     "data": {
      "text/html": [
       "<pre style=\"white-space:pre;overflow-x:auto;line-height:normal;font-family:Menlo,'DejaVu Sans Mono',consolas,'Courier New',monospace\"><span style=\"font-weight: bold\"> Total params: </span><span style=\"color: #00af00; text-decoration-color: #00af00\">200,455</span> (783.03 KB)\n",
       "</pre>\n"
      ],
      "text/plain": [
       "\u001b[1m Total params: \u001b[0m\u001b[38;5;34m200,455\u001b[0m (783.03 KB)\n"
      ]
     },
     "metadata": {},
     "output_type": "display_data"
    },
    {
     "data": {
      "text/html": [
       "<pre style=\"white-space:pre;overflow-x:auto;line-height:normal;font-family:Menlo,'DejaVu Sans Mono',consolas,'Courier New',monospace\"><span style=\"font-weight: bold\"> Trainable params: </span><span style=\"color: #00af00; text-decoration-color: #00af00\">199,621</span> (779.77 KB)\n",
       "</pre>\n"
      ],
      "text/plain": [
       "\u001b[1m Trainable params: \u001b[0m\u001b[38;5;34m199,621\u001b[0m (779.77 KB)\n"
      ]
     },
     "metadata": {},
     "output_type": "display_data"
    },
    {
     "data": {
      "text/html": [
       "<pre style=\"white-space:pre;overflow-x:auto;line-height:normal;font-family:Menlo,'DejaVu Sans Mono',consolas,'Courier New',monospace\"><span style=\"font-weight: bold\"> Non-trainable params: </span><span style=\"color: #00af00; text-decoration-color: #00af00\">834</span> (3.26 KB)\n",
       "</pre>\n"
      ],
      "text/plain": [
       "\u001b[1m Non-trainable params: \u001b[0m\u001b[38;5;34m834\u001b[0m (3.26 KB)\n"
      ]
     },
     "metadata": {},
     "output_type": "display_data"
    }
   ],
   "source": [
    "vae_input = tensorflow.keras.layers.Input(shape=(img_size_1, 1, 1), name=\"VAE_input\")\n",
    "vae_encoder_output = encoder(vae_input)\n",
    "vae_decoder_output = decoder(vae_encoder_output)\n",
    "vae = tensorflow.keras.models.Model(vae_input, vae_decoder_output, name=\"VAE\")\n",
    "vae.summary()"
   ]
  },
  {
   "cell_type": "code",
   "execution_count": 30,
   "metadata": {},
   "outputs": [],
   "source": [
    "vae.compile(optimizer=tensorflow.keras.optimizers.Adam(learning_rate=0.0005), loss=loss_func(encoder_mu, encoder_log_variance))"
   ]
  },
  {
   "cell_type": "code",
   "execution_count": 31,
   "metadata": {},
   "outputs": [
    {
     "data": {
      "text/plain": [
       "(2216985, 14)"
      ]
     },
     "execution_count": 31,
     "metadata": {},
     "output_type": "execute_result"
    }
   ],
   "source": [
    "norm_df.shape"
   ]
  },
  {
   "cell_type": "code",
   "execution_count": 32,
   "metadata": {},
   "outputs": [
    {
     "data": {
      "text/plain": [
       "['User',\n",
       " 'Card',\n",
       " 'Year',\n",
       " 'Month',\n",
       " 'Day',\n",
       " 'Amount',\n",
       " 'Use Chip',\n",
       " 'Merchant Name',\n",
       " 'Merchant City',\n",
       " 'Merchant State',\n",
       " 'Zip',\n",
       " 'MCC',\n",
       " 'Errors?',\n",
       " 'Is Fraud?']"
      ]
     },
     "execution_count": 32,
     "metadata": {},
     "output_type": "execute_result"
    }
   ],
   "source": [
    "norm_df.iloc[0].index.to_list()"
   ]
  },
  {
   "cell_type": "code",
   "execution_count": 33,
   "metadata": {},
   "outputs": [
    {
     "data": {
      "text/plain": [
       "{0: 'User',\n",
       " 1: 'Card',\n",
       " 2: 'Year',\n",
       " 3: 'Month',\n",
       " 4: 'Day',\n",
       " 5: 'Amount',\n",
       " 6: 'Use Chip',\n",
       " 7: 'Merchant Name',\n",
       " 8: 'Merchant City',\n",
       " 9: 'Merchant State',\n",
       " 10: 'Zip',\n",
       " 11: 'MCC',\n",
       " 12: 'Errors?',\n",
       " 13: 'Is Fraud?'}"
      ]
     },
     "execution_count": 33,
     "metadata": {},
     "output_type": "execute_result"
    }
   ],
   "source": [
    "col_index  = {i:j for i, j in enumerate(norm_df.iloc[0].index.to_list())}\n",
    "col_index"
   ]
  },
  {
   "cell_type": "code",
   "execution_count": 34,
   "metadata": {},
   "outputs": [
    {
     "data": {
      "text/plain": [
       "(2216985, 14, 1, 1)"
      ]
     },
     "execution_count": 34,
     "metadata": {},
     "output_type": "execute_result"
    }
   ],
   "source": [
    "reshaped_array = np.array(norm_df).reshape(-1, 14, 1, 1)\n",
    "reshaped_array.shape"
   ]
  },
  {
   "cell_type": "code",
   "execution_count": 35,
   "metadata": {},
   "outputs": [
    {
     "name": "stdout",
     "output_type": "stream",
     "text": [
      "Epoch 1/20\n",
      "\u001b[1m4331/4331\u001b[0m \u001b[32m━━━━━━━━━━━━━━━━━━━━\u001b[0m\u001b[37m\u001b[0m \u001b[1m594s\u001b[0m 137ms/step - loss: 34.4580\n",
      "Epoch 2/20\n",
      "\u001b[1m4331/4331\u001b[0m \u001b[32m━━━━━━━━━━━━━━━━━━━━\u001b[0m\u001b[37m\u001b[0m \u001b[1m740s\u001b[0m 171ms/step - loss: 22.2010\n",
      "Epoch 3/20\n",
      "\u001b[1m4331/4331\u001b[0m \u001b[32m━━━━━━━━━━━━━━━━━━━━\u001b[0m\u001b[37m\u001b[0m \u001b[1m687s\u001b[0m 158ms/step - loss: 20.1037\n",
      "Epoch 4/20\n",
      "\u001b[1m4331/4331\u001b[0m \u001b[32m━━━━━━━━━━━━━━━━━━━━\u001b[0m\u001b[37m\u001b[0m \u001b[1m641s\u001b[0m 148ms/step - loss: 19.0525\n",
      "Epoch 5/20\n",
      "\u001b[1m4331/4331\u001b[0m \u001b[32m━━━━━━━━━━━━━━━━━━━━\u001b[0m\u001b[37m\u001b[0m \u001b[1m628s\u001b[0m 145ms/step - loss: 18.4047\n",
      "Epoch 6/20\n",
      "\u001b[1m4331/4331\u001b[0m \u001b[32m━━━━━━━━━━━━━━━━━━━━\u001b[0m\u001b[37m\u001b[0m \u001b[1m656s\u001b[0m 151ms/step - loss: 17.9071\n",
      "Epoch 7/20\n",
      "\u001b[1m4331/4331\u001b[0m \u001b[32m━━━━━━━━━━━━━━━━━━━━\u001b[0m\u001b[37m\u001b[0m \u001b[1m723s\u001b[0m 167ms/step - loss: 17.3397\n",
      "Epoch 8/20\n",
      "\u001b[1m4331/4331\u001b[0m \u001b[32m━━━━━━━━━━━━━━━━━━━━\u001b[0m\u001b[37m\u001b[0m \u001b[1m799s\u001b[0m 185ms/step - loss: 16.8836\n",
      "Epoch 9/20\n",
      "\u001b[1m4331/4331\u001b[0m \u001b[32m━━━━━━━━━━━━━━━━━━━━\u001b[0m\u001b[37m\u001b[0m \u001b[1m712s\u001b[0m 164ms/step - loss: 16.5114\n",
      "Epoch 10/20\n",
      "\u001b[1m4331/4331\u001b[0m \u001b[32m━━━━━━━━━━━━━━━━━━━━\u001b[0m\u001b[37m\u001b[0m \u001b[1m833s\u001b[0m 192ms/step - loss: 16.2877\n",
      "Epoch 11/20\n",
      "\u001b[1m4331/4331\u001b[0m \u001b[32m━━━━━━━━━━━━━━━━━━━━\u001b[0m\u001b[37m\u001b[0m \u001b[1m902s\u001b[0m 208ms/step - loss: 15.9721\n",
      "Epoch 12/20\n",
      "\u001b[1m4331/4331\u001b[0m \u001b[32m━━━━━━━━━━━━━━━━━━━━\u001b[0m\u001b[37m\u001b[0m \u001b[1m931s\u001b[0m 215ms/step - loss: 15.8124\n",
      "Epoch 13/20\n",
      "\u001b[1m4331/4331\u001b[0m \u001b[32m━━━━━━━━━━━━━━━━━━━━\u001b[0m\u001b[37m\u001b[0m \u001b[1m811s\u001b[0m 187ms/step - loss: 15.5734\n",
      "Epoch 14/20\n",
      "\u001b[1m4331/4331\u001b[0m \u001b[32m━━━━━━━━━━━━━━━━━━━━\u001b[0m\u001b[37m\u001b[0m \u001b[1m734s\u001b[0m 170ms/step - loss: 15.4361\n",
      "Epoch 15/20\n",
      "\u001b[1m4331/4331\u001b[0m \u001b[32m━━━━━━━━━━━━━━━━━━━━\u001b[0m\u001b[37m\u001b[0m \u001b[1m898s\u001b[0m 207ms/step - loss: 15.3202\n",
      "Epoch 16/20\n",
      "\u001b[1m4331/4331\u001b[0m \u001b[32m━━━━━━━━━━━━━━━━━━━━\u001b[0m\u001b[37m\u001b[0m \u001b[1m1216s\u001b[0m 281ms/step - loss: 15.2122\n",
      "Epoch 17/20\n",
      "\u001b[1m4331/4331\u001b[0m \u001b[32m━━━━━━━━━━━━━━━━━━━━\u001b[0m\u001b[37m\u001b[0m \u001b[1m1203s\u001b[0m 278ms/step - loss: 15.0557\n",
      "Epoch 18/20\n",
      "\u001b[1m4331/4331\u001b[0m \u001b[32m━━━━━━━━━━━━━━━━━━━━\u001b[0m\u001b[37m\u001b[0m \u001b[1m1494s\u001b[0m 345ms/step - loss: 14.9632\n",
      "Epoch 19/20\n",
      "\u001b[1m4331/4331\u001b[0m \u001b[32m━━━━━━━━━━━━━━━━━━━━\u001b[0m\u001b[37m\u001b[0m \u001b[1m1220s\u001b[0m 282ms/step - loss: 14.9016\n",
      "Epoch 20/20\n",
      "\u001b[1m4331/4331\u001b[0m \u001b[32m━━━━━━━━━━━━━━━━━━━━\u001b[0m\u001b[37m\u001b[0m \u001b[1m976s\u001b[0m 225ms/step - loss: 14.8547\n"
     ]
    }
   ],
   "source": [
    "with tensorflow.device('/GPU:0'):\n",
    "    vae.fit(reshaped_array, reshaped_array, epochs=20, batch_size=512, shuffle=True)"
   ]
  },
  {
   "cell_type": "code",
   "execution_count": 38,
   "metadata": {},
   "outputs": [],
   "source": [
    "vae.save('vae_model.keras')"
   ]
  },
  {
   "cell_type": "code",
   "execution_count": 48,
   "metadata": {},
   "outputs": [],
   "source": [
    "vae.save_weights('vae.weights.h5')"
   ]
  },
  {
   "cell_type": "code",
   "execution_count": 49,
   "metadata": {},
   "outputs": [
    {
     "name": "stderr",
     "output_type": "stream",
     "text": [
      "100%|██████████| 1415/1415 [25:24:45<00:00, 64.65s/it]  \n"
     ]
    }
   ],
   "source": [
    "from tqdm import tqdm\n",
    "\n",
    "scale = 1.0\n",
    "n = 1415\n",
    "grid_x = np.linspace(-scale, scale, n)\n",
    "grid_y = np.linspace(-scale, scale, n)\n",
    "\n",
    "synthetic_data = []\n",
    "for i, yi in enumerate(tqdm(grid_y)):\n",
    "    for j, xi in enumerate(grid_x):\n",
    "        z_sample = np.array([[xi, yi]])\n",
    "        x_decoded = decoder.predict(z_sample, verbose=0)\n",
    "        synthetic_data.append(x_decoded[0])"
   ]
  },
  {
   "cell_type": "code",
   "execution_count": 50,
   "metadata": {},
   "outputs": [],
   "source": [
    "syn_data = np.array(synthetic_data).reshape(-1, 14)\n",
    "synth_data = pd.DataFrame(syn_data, columns=col_index.values())"
   ]
  },
  {
   "cell_type": "code",
   "execution_count": 51,
   "metadata": {},
   "outputs": [
    {
     "data": {
      "text/html": [
       "<div>\n",
       "<style scoped>\n",
       "    .dataframe tbody tr th:only-of-type {\n",
       "        vertical-align: middle;\n",
       "    }\n",
       "\n",
       "    .dataframe tbody tr th {\n",
       "        vertical-align: top;\n",
       "    }\n",
       "\n",
       "    .dataframe thead th {\n",
       "        text-align: right;\n",
       "    }\n",
       "</style>\n",
       "<table border=\"1\" class=\"dataframe\">\n",
       "  <thead>\n",
       "    <tr style=\"text-align: right;\">\n",
       "      <th></th>\n",
       "      <th>User</th>\n",
       "      <th>Card</th>\n",
       "      <th>Year</th>\n",
       "      <th>Month</th>\n",
       "      <th>Day</th>\n",
       "      <th>Amount</th>\n",
       "      <th>Use Chip</th>\n",
       "      <th>Merchant Name</th>\n",
       "      <th>Merchant City</th>\n",
       "      <th>Merchant State</th>\n",
       "      <th>Zip</th>\n",
       "      <th>MCC</th>\n",
       "      <th>Errors?</th>\n",
       "      <th>Is Fraud?</th>\n",
       "    </tr>\n",
       "  </thead>\n",
       "  <tbody>\n",
       "    <tr>\n",
       "      <th>0</th>\n",
       "      <td>0.929236</td>\n",
       "      <td>0.150969</td>\n",
       "      <td>0.710514</td>\n",
       "      <td>0.358382</td>\n",
       "      <td>0.768793</td>\n",
       "      <td>0.049278</td>\n",
       "      <td>1.007522</td>\n",
       "      <td>0.616607</td>\n",
       "      <td>0.044535</td>\n",
       "      <td>0.711538</td>\n",
       "      <td>0.262331</td>\n",
       "      <td>0.498878</td>\n",
       "      <td>0.836969</td>\n",
       "      <td>0.000053</td>\n",
       "    </tr>\n",
       "    <tr>\n",
       "      <th>1</th>\n",
       "      <td>0.929383</td>\n",
       "      <td>0.151045</td>\n",
       "      <td>0.711271</td>\n",
       "      <td>0.357293</td>\n",
       "      <td>0.768487</td>\n",
       "      <td>0.049402</td>\n",
       "      <td>1.007517</td>\n",
       "      <td>0.615575</td>\n",
       "      <td>0.044532</td>\n",
       "      <td>0.711140</td>\n",
       "      <td>0.261900</td>\n",
       "      <td>0.498912</td>\n",
       "      <td>0.836998</td>\n",
       "      <td>0.000057</td>\n",
       "    </tr>\n",
       "    <tr>\n",
       "      <th>2</th>\n",
       "      <td>0.929528</td>\n",
       "      <td>0.151120</td>\n",
       "      <td>0.712028</td>\n",
       "      <td>0.356204</td>\n",
       "      <td>0.768181</td>\n",
       "      <td>0.049526</td>\n",
       "      <td>1.007515</td>\n",
       "      <td>0.614544</td>\n",
       "      <td>0.044527</td>\n",
       "      <td>0.710742</td>\n",
       "      <td>0.261467</td>\n",
       "      <td>0.498946</td>\n",
       "      <td>0.837027</td>\n",
       "      <td>0.000061</td>\n",
       "    </tr>\n",
       "    <tr>\n",
       "      <th>3</th>\n",
       "      <td>0.929675</td>\n",
       "      <td>0.151195</td>\n",
       "      <td>0.712785</td>\n",
       "      <td>0.355116</td>\n",
       "      <td>0.767875</td>\n",
       "      <td>0.049650</td>\n",
       "      <td>1.007511</td>\n",
       "      <td>0.613512</td>\n",
       "      <td>0.044523</td>\n",
       "      <td>0.710343</td>\n",
       "      <td>0.261034</td>\n",
       "      <td>0.498980</td>\n",
       "      <td>0.837056</td>\n",
       "      <td>0.000065</td>\n",
       "    </tr>\n",
       "    <tr>\n",
       "      <th>4</th>\n",
       "      <td>0.929822</td>\n",
       "      <td>0.151270</td>\n",
       "      <td>0.713541</td>\n",
       "      <td>0.354028</td>\n",
       "      <td>0.767570</td>\n",
       "      <td>0.049775</td>\n",
       "      <td>1.007507</td>\n",
       "      <td>0.612480</td>\n",
       "      <td>0.044520</td>\n",
       "      <td>0.709945</td>\n",
       "      <td>0.260600</td>\n",
       "      <td>0.499015</td>\n",
       "      <td>0.837085</td>\n",
       "      <td>0.000070</td>\n",
       "    </tr>\n",
       "    <tr>\n",
       "      <th>...</th>\n",
       "      <td>...</td>\n",
       "      <td>...</td>\n",
       "      <td>...</td>\n",
       "      <td>...</td>\n",
       "      <td>...</td>\n",
       "      <td>...</td>\n",
       "      <td>...</td>\n",
       "      <td>...</td>\n",
       "      <td>...</td>\n",
       "      <td>...</td>\n",
       "      <td>...</td>\n",
       "      <td>...</td>\n",
       "      <td>...</td>\n",
       "      <td>...</td>\n",
       "    </tr>\n",
       "    <tr>\n",
       "      <th>2002220</th>\n",
       "      <td>0.610881</td>\n",
       "      <td>0.217618</td>\n",
       "      <td>0.439049</td>\n",
       "      <td>0.255480</td>\n",
       "      <td>0.727068</td>\n",
       "      <td>0.060607</td>\n",
       "      <td>1.000448</td>\n",
       "      <td>0.543507</td>\n",
       "      <td>0.256464</td>\n",
       "      <td>0.062332</td>\n",
       "      <td>0.902550</td>\n",
       "      <td>0.494334</td>\n",
       "      <td>0.859183</td>\n",
       "      <td>0.005076</td>\n",
       "    </tr>\n",
       "    <tr>\n",
       "      <th>2002221</th>\n",
       "      <td>0.611919</td>\n",
       "      <td>0.217741</td>\n",
       "      <td>0.439373</td>\n",
       "      <td>0.256016</td>\n",
       "      <td>0.727152</td>\n",
       "      <td>0.060581</td>\n",
       "      <td>1.000421</td>\n",
       "      <td>0.545624</td>\n",
       "      <td>0.256238</td>\n",
       "      <td>0.062385</td>\n",
       "      <td>0.902642</td>\n",
       "      <td>0.494204</td>\n",
       "      <td>0.859227</td>\n",
       "      <td>0.005054</td>\n",
       "    </tr>\n",
       "    <tr>\n",
       "      <th>2002222</th>\n",
       "      <td>0.612957</td>\n",
       "      <td>0.217864</td>\n",
       "      <td>0.439698</td>\n",
       "      <td>0.256554</td>\n",
       "      <td>0.727237</td>\n",
       "      <td>0.060555</td>\n",
       "      <td>1.000394</td>\n",
       "      <td>0.547742</td>\n",
       "      <td>0.256012</td>\n",
       "      <td>0.062439</td>\n",
       "      <td>0.902735</td>\n",
       "      <td>0.494076</td>\n",
       "      <td>0.859270</td>\n",
       "      <td>0.005031</td>\n",
       "    </tr>\n",
       "    <tr>\n",
       "      <th>2002223</th>\n",
       "      <td>0.613996</td>\n",
       "      <td>0.217988</td>\n",
       "      <td>0.440022</td>\n",
       "      <td>0.257092</td>\n",
       "      <td>0.727321</td>\n",
       "      <td>0.060529</td>\n",
       "      <td>1.000366</td>\n",
       "      <td>0.549860</td>\n",
       "      <td>0.255788</td>\n",
       "      <td>0.062492</td>\n",
       "      <td>0.902828</td>\n",
       "      <td>0.493947</td>\n",
       "      <td>0.859314</td>\n",
       "      <td>0.005010</td>\n",
       "    </tr>\n",
       "    <tr>\n",
       "      <th>2002224</th>\n",
       "      <td>0.615033</td>\n",
       "      <td>0.218110</td>\n",
       "      <td>0.440346</td>\n",
       "      <td>0.257629</td>\n",
       "      <td>0.727406</td>\n",
       "      <td>0.060503</td>\n",
       "      <td>1.000338</td>\n",
       "      <td>0.551978</td>\n",
       "      <td>0.255561</td>\n",
       "      <td>0.062545</td>\n",
       "      <td>0.902921</td>\n",
       "      <td>0.493818</td>\n",
       "      <td>0.859358</td>\n",
       "      <td>0.004988</td>\n",
       "    </tr>\n",
       "  </tbody>\n",
       "</table>\n",
       "<p>2002225 rows × 14 columns</p>\n",
       "</div>"
      ],
      "text/plain": [
       "             User      Card      Year     Month       Day    Amount  Use Chip  \\\n",
       "0        0.929236  0.150969  0.710514  0.358382  0.768793  0.049278  1.007522   \n",
       "1        0.929383  0.151045  0.711271  0.357293  0.768487  0.049402  1.007517   \n",
       "2        0.929528  0.151120  0.712028  0.356204  0.768181  0.049526  1.007515   \n",
       "3        0.929675  0.151195  0.712785  0.355116  0.767875  0.049650  1.007511   \n",
       "4        0.929822  0.151270  0.713541  0.354028  0.767570  0.049775  1.007507   \n",
       "...           ...       ...       ...       ...       ...       ...       ...   \n",
       "2002220  0.610881  0.217618  0.439049  0.255480  0.727068  0.060607  1.000448   \n",
       "2002221  0.611919  0.217741  0.439373  0.256016  0.727152  0.060581  1.000421   \n",
       "2002222  0.612957  0.217864  0.439698  0.256554  0.727237  0.060555  1.000394   \n",
       "2002223  0.613996  0.217988  0.440022  0.257092  0.727321  0.060529  1.000366   \n",
       "2002224  0.615033  0.218110  0.440346  0.257629  0.727406  0.060503  1.000338   \n",
       "\n",
       "         Merchant Name  Merchant City  Merchant State       Zip       MCC  \\\n",
       "0             0.616607       0.044535        0.711538  0.262331  0.498878   \n",
       "1             0.615575       0.044532        0.711140  0.261900  0.498912   \n",
       "2             0.614544       0.044527        0.710742  0.261467  0.498946   \n",
       "3             0.613512       0.044523        0.710343  0.261034  0.498980   \n",
       "4             0.612480       0.044520        0.709945  0.260600  0.499015   \n",
       "...                ...            ...             ...       ...       ...   \n",
       "2002220       0.543507       0.256464        0.062332  0.902550  0.494334   \n",
       "2002221       0.545624       0.256238        0.062385  0.902642  0.494204   \n",
       "2002222       0.547742       0.256012        0.062439  0.902735  0.494076   \n",
       "2002223       0.549860       0.255788        0.062492  0.902828  0.493947   \n",
       "2002224       0.551978       0.255561        0.062545  0.902921  0.493818   \n",
       "\n",
       "          Errors?  Is Fraud?  \n",
       "0        0.836969   0.000053  \n",
       "1        0.836998   0.000057  \n",
       "2        0.837027   0.000061  \n",
       "3        0.837056   0.000065  \n",
       "4        0.837085   0.000070  \n",
       "...           ...        ...  \n",
       "2002220  0.859183   0.005076  \n",
       "2002221  0.859227   0.005054  \n",
       "2002222  0.859270   0.005031  \n",
       "2002223  0.859314   0.005010  \n",
       "2002224  0.859358   0.004988  \n",
       "\n",
       "[2002225 rows x 14 columns]"
      ]
     },
     "execution_count": 51,
     "metadata": {},
     "output_type": "execute_result"
    }
   ],
   "source": [
    "synth_data"
   ]
  },
  {
   "cell_type": "code",
   "execution_count": 52,
   "metadata": {},
   "outputs": [],
   "source": [
    "synth_data.to_csv('synth_data_2million.csv', index=False)"
   ]
  },
  {
   "cell_type": "code",
   "execution_count": 61,
   "metadata": {},
   "outputs": [
    {
     "name": "stdout",
     "output_type": "stream",
     "text": [
      "               User          Card          Year         Month           Day  \\\n",
      "count  2.216985e+06  2.216985e+06  2.216985e+06  2.216985e+06  2.216985e+06   \n",
      "mean   1.030859e+02  1.261865e+00  2.011696e+03  6.525046e+00  1.571286e+01   \n",
      "std    6.183278e+01  1.352907e+00  5.191002e+00  3.473211e+00  8.787035e+00   \n",
      "min    0.000000e+00  0.000000e+00  1.995000e+03  1.000000e+00  1.000000e+00   \n",
      "25%    4.800000e+01  0.000000e+00  2.008000e+03  3.000000e+00  8.000000e+00   \n",
      "50%    1.020000e+02  1.000000e+00  2.012000e+03  7.000000e+00  1.600000e+01   \n",
      "75%    1.560000e+02  2.000000e+00  2.016000e+03  1.000000e+01  2.300000e+01   \n",
      "max    2.150000e+02  8.000000e+00  2.020000e+03  1.200000e+01  3.100000e+01   \n",
      "\n",
      "             Amount      Use Chip  Merchant Name  Merchant City  \\\n",
      "count  2.216985e+06  2.216985e+06   2.216985e+06   2.216985e+06   \n",
      "mean   4.288970e+01  7.158551e-01  -4.274786e+17   3.875653e+03   \n",
      "std    8.205087e+01  4.510063e-01   4.774326e+18   2.266638e+03   \n",
      "min   -5.000000e+02  0.000000e+00  -9.222265e+18   0.000000e+00   \n",
      "25%    7.950000e+00  0.000000e+00  -4.514134e+18   1.838000e+03   \n",
      "50%    2.763000e+01  1.000000e+00  -1.121212e+17   4.090000e+03   \n",
      "75%    6.604000e+01  1.000000e+00   3.397453e+18   5.812000e+03   \n",
      "max    6.820200e+03  1.000000e+00   9.222877e+18   7.815000e+03   \n",
      "\n",
      "       Merchant State           Zip           MCC       Errors?     Is Fraud?  \n",
      "count    2.216985e+06  2.216985e+06  2.216985e+06  2.216985e+06  2.216985e+06  \n",
      "mean     2.242213e+01  5.306903e+04  5.653492e+03  5.966040e+00  2.359060e-04  \n",
      "std      1.546745e+01  2.851758e+04  8.848910e+02  3.719631e-01  1.535742e-02  \n",
      "min      0.000000e+00  1.001000e+03  1.711000e+03  0.000000e+00  0.000000e+00  \n",
      "25%      9.000000e+00  3.053500e+04  5.311000e+03  6.000000e+00  0.000000e+00  \n",
      "50%      2.000000e+01  4.837500e+04  5.499000e+03  6.000000e+00  0.000000e+00  \n",
      "75%      3.700000e+01  7.863300e+04  5.814000e+03  6.000000e+00  0.000000e+00  \n",
      "max      5.000000e+01  9.992800e+04  9.402000e+03  7.000000e+00  1.000000e+00  \n",
      "               User          Card          Year         Month           Day  \\\n",
      "count  2.002225e+06  2.002225e+06  2.002225e+06  2.002225e+06  2.002225e+06   \n",
      "mean   1.570728e+02  1.398354e+00  2.012390e+03  3.870246e+00  2.021189e+01   \n",
      "std    4.767358e+01  3.557208e-01  4.265778e+00  1.049869e+00  5.228665e+00   \n",
      "min    4.714383e+01  6.110411e-01  2.003792e+03  2.035491e+00  6.945828e+00   \n",
      "25%    1.143178e+02  1.195099e+00  2.009239e+03  3.060513e+00  1.884411e+01   \n",
      "50%    1.849418e+02  1.362878e+00  2.012864e+03  3.874266e+00  2.230866e+01   \n",
      "75%    1.931265e+02  1.640830e+00  2.016948e+03  4.462044e+00  2.376743e+01   \n",
      "max    2.223700e+02  2.418118e+00  2.018950e+03  1.045373e+01  2.728922e+01   \n",
      "\n",
      "             Amount      Use Chip  Merchant Name  Merchant City  \\\n",
      "count  2.002225e+06  2.002225e+06   2.002225e+06   2.002225e+06   \n",
      "mean  -3.506812e+01  8.804288e-01   5.998470e+17   3.178516e+03   \n",
      "std    5.949320e+01  2.650453e-01   4.357393e+18   1.729467e+03   \n",
      "min   -2.346362e+02 -9.720592e-03  -5.606194e+18   3.069775e+02   \n",
      "25%   -7.096085e+01  9.418198e-01  -3.632996e+18   1.565442e+03   \n",
      "50%   -3.524664e+01  1.003211e+00  -2.680789e+17   2.928057e+03   \n",
      "75%   -4.288957e+00  1.009799e+00   5.137918e+18   4.735193e+03   \n",
      "max    1.891241e+02  1.029642e+00   7.714489e+18   6.527571e+03   \n",
      "\n",
      "       Merchant State           Zip           MCC       Errors?     Is Fraud?  \n",
      "count    2.002225e+06  2.002225e+06  2.002225e+06  2.002225e+06  2.002225e+06  \n",
      "mean     1.701667e+01  3.854891e+04  5.565423e+03  5.940683e+00  1.352143e-03  \n",
      "std      6.218152e+00  1.429762e+04  1.191104e+02  2.890171e-02  2.241126e-03  \n",
      "min      3.048388e+00  1.207294e+04  5.389818e+03  5.858785e+00 -2.346533e-03  \n",
      "25%      1.305331e+01  2.875860e+04  5.485834e+03  5.923592e+00 -3.044665e-04  \n",
      "50%      1.539994e+01  3.979332e+04  5.521480e+03  5.940383e+00  4.941374e-04  \n",
      "75%      1.746315e+01  4.438530e+04  5.619514e+03  5.959962e+00  2.675593e-03  \n",
      "max      3.557692e+01  9.037534e+04  6.009351e+03  6.041307e+00  9.183586e-03  \n",
      "Total duplicates: 3639\n",
      "Real duplicates: 3639\n",
      "Synthetic duplicates: 0\n",
      "Copies: 0\n"
     ]
    }
   ],
   "source": [
    "# Step 1: Inverse transform the synthetic data\n",
    "inv_synth_df = pd.DataFrame(MinMaxScaler().fit(df).inverse_transform(synth_data), columns=synth_data.columns)\n",
    "inv_norm_df = pd.DataFrame(MinMaxScaler().fit(df).inverse_transform(norm_df), columns=norm_df.columns)\n",
    "\n",
    "# Modify Scale\n",
    "inv_norm_stats = inv_norm_df.describe() \n",
    "inv_synth_stats = inv_synth_df.describe()\n",
    "print(inv_norm_stats)\n",
    "print(inv_synth_stats)\n",
    "\n",
    "inv_synth_df['User'] = inv_synth_df['User'].round(0).astype(int)\n",
    "inv_synth_df['Card'] = inv_synth_df['Card'].round(0).astype(int)\n",
    "inv_synth_df['Year'] = inv_synth_df['Year'].round(0).astype(int)\n",
    "inv_synth_df['Month'] = inv_synth_df['Month'].round(0).astype(int)\n",
    "inv_synth_df['Day'] = inv_synth_df['Day'].round(0).astype(int)\n",
    "inv_synth_df['Merchant City'] = inv_synth_df['Merchant City'].round(0).astype(int)\n",
    "inv_synth_df['Merchant State'] = inv_synth_df['Merchant State'].round(0).astype(int)\n",
    "inv_synth_df['Zip'] = inv_synth_df['Zip'].round(0).astype(int)\n",
    "inv_synth_df['Errors?'] = inv_synth_df['Errors?'].round(0).astype(int)\n",
    "inv_synth_df['Amount'] = inv_synth_df['Amount'] * -1\n",
    "inv_synth_df['Amount'] = inv_synth_df['Amount'].round(2).astype(int)\n",
    "inv_synth_df['Use Chip'] = inv_synth_df['Use Chip'].apply(lambda x: 1 if x > 0.5 else 0).astype(int)\n",
    "inv_synth_df['Is Fraud?'] = inv_synth_df['Is Fraud?'].round(0).astype(int)\n",
    "inv_synth_df['MCC'] = inv_synth_df['MCC'].round(0)\n",
    "inv_synth_df['Merchant Name'] = inv_synth_df['Merchant Name'].round(2)\n",
    "\n",
    "\n",
    "# Coarse-grained metrics - Duplicates count\n",
    "total_data = pd.concat([inv_norm_df, inv_synth_df], axis=0)\n",
    "dup_total = total_data.duplicated().sum()\n",
    "dup_real = inv_norm_df.duplicated().sum()\n",
    "dup_synth = inv_synth_df.duplicated().sum()\n",
    "copies = dup_total - dup_real - dup_synth\n",
    "\n",
    "print(f'Total duplicates: {dup_total}')\n",
    "print(f'Real duplicates: {dup_real}')\n",
    "print(f'Synthetic duplicates: {dup_synth}')\n",
    "print(f'Copies: {copies}')"
   ]
  },
  {
   "cell_type": "markdown",
   "metadata": {},
   "source": [
    "As indicated above the coarse grained metrics the total duplicates were 3639 and the duplicates in Real data was also 3639 and the number of copies is 0 which implies that the number of duplicates in synthetic data is 0."
   ]
  },
  {
   "cell_type": "code",
   "execution_count": 63,
   "metadata": {},
   "outputs": [
    {
     "data": {
      "image/png": "[encoded data removed]",
      "text/plain": [
       "<Figure size 1500x2500 with 14 Axes>"
      ]
     },
     "metadata": {},
     "output_type": "display_data"
    }
   ],
   "source": [
    "# Medium-grained metrics - Plotting distributions\n",
    "num_cols = inv_norm_df.columns\n",
    "num_plots = len(num_cols)\n",
    "num_rows = int(np.ceil(num_plots / 2))\n",
    "\n",
    "plt.figure(figsize=(15, 25))\n",
    "\n",
    "for i, col in enumerate(num_cols):\n",
    "    plt.subplot(num_rows, 2, i + 1)\n",
    "    sns.histplot(inv_norm_df[col], color='blue', label='Real', alpha=0.5)\n",
    "    sns.histplot(inv_synth_df[col], color='red', label='Synthetic', alpha=0.5)\n",
    "    plt.legend()\n",
    "    plt.xlabel(col)\n",
    "\n",
    "plt.tight_layout()\n",
    "plt.show()"
   ]
  },
  {
   "cell_type": "markdown",
   "metadata": {},
   "source": [
    "In the Medium-grained metrics we evaluate the performance of the model by plotting the distribution of each of the columns (real vs synthetic)"
   ]
  },
  {
   "cell_type": "code",
   "execution_count": 64,
   "metadata": {},
   "outputs": [
    {
     "data": {
      "text/html": [
       "<div>\n",
       "<style scoped>\n",
       "    .dataframe tbody tr th:only-of-type {\n",
       "        vertical-align: middle;\n",
       "    }\n",
       "\n",
       "    .dataframe tbody tr th {\n",
       "        vertical-align: top;\n",
       "    }\n",
       "\n",
       "    .dataframe thead th {\n",
       "        text-align: right;\n",
       "    }\n",
       "</style>\n",
       "<table border=\"1\" class=\"dataframe\">\n",
       "  <thead>\n",
       "    <tr style=\"text-align: right;\">\n",
       "      <th></th>\n",
       "      <th>RMSE</th>\n",
       "    </tr>\n",
       "  </thead>\n",
       "  <tbody>\n",
       "    <tr>\n",
       "      <th>User</th>\n",
       "      <td>1.131726e+02</td>\n",
       "    </tr>\n",
       "    <tr>\n",
       "      <th>Card</th>\n",
       "      <td>1.439178e+00</td>\n",
       "    </tr>\n",
       "    <tr>\n",
       "      <th>Year</th>\n",
       "      <td>6.744584e+00</td>\n",
       "    </tr>\n",
       "    <tr>\n",
       "      <th>Month</th>\n",
       "      <td>4.502618e+00</td>\n",
       "    </tr>\n",
       "    <tr>\n",
       "      <th>Day</th>\n",
       "      <td>1.117394e+01</td>\n",
       "    </tr>\n",
       "    <tr>\n",
       "      <th>Amount</th>\n",
       "      <td>1.011679e+02</td>\n",
       "    </tr>\n",
       "    <tr>\n",
       "      <th>Use Chip</th>\n",
       "      <td>5.720616e-01</td>\n",
       "    </tr>\n",
       "    <tr>\n",
       "      <th>Merchant Name</th>\n",
       "      <td>6.595451e+18</td>\n",
       "    </tr>\n",
       "    <tr>\n",
       "      <th>Merchant City</th>\n",
       "      <td>2.924952e+03</td>\n",
       "    </tr>\n",
       "    <tr>\n",
       "      <th>Merchant State</th>\n",
       "      <td>1.760097e+01</td>\n",
       "    </tr>\n",
       "    <tr>\n",
       "      <th>Zip</th>\n",
       "      <td>3.590741e+04</td>\n",
       "    </tr>\n",
       "    <tr>\n",
       "      <th>MCC</th>\n",
       "      <td>8.894796e+02</td>\n",
       "    </tr>\n",
       "    <tr>\n",
       "      <th>Errors?</th>\n",
       "      <td>3.760667e-01</td>\n",
       "    </tr>\n",
       "    <tr>\n",
       "      <th>Is Fraud?</th>\n",
       "      <td>1.468877e-02</td>\n",
       "    </tr>\n",
       "  </tbody>\n",
       "</table>\n",
       "</div>"
      ],
      "text/plain": [
       "                        RMSE\n",
       "User            1.131726e+02\n",
       "Card            1.439178e+00\n",
       "Year            6.744584e+00\n",
       "Month           4.502618e+00\n",
       "Day             1.117394e+01\n",
       "Amount          1.011679e+02\n",
       "Use Chip        5.720616e-01\n",
       "Merchant Name   6.595451e+18\n",
       "Merchant City   2.924952e+03\n",
       "Merchant State  1.760097e+01\n",
       "Zip             3.590741e+04\n",
       "MCC             8.894796e+02\n",
       "Errors?         3.760667e-01\n",
       "Is Fraud?       1.468877e-02"
      ]
     },
     "execution_count": 64,
     "metadata": {},
     "output_type": "execute_result"
    }
   ],
   "source": [
    "# Fine-grained metrics - Compare joint distributions -- rmse\n",
    "rmse = []\n",
    "for col in num_cols:\n",
    "    rmse.append(np.sqrt(np.mean((inv_norm_df[col] - inv_synth_df[col]) ** 2)))\n",
    "\n",
    "rmse_df = pd.DataFrame(rmse, index=num_cols, columns=['RMSE'])\n",
    "rmse_df"
   ]
  },
  {
   "cell_type": "markdown",
   "metadata": {},
   "source": [
    "Finally we have compared the joint distribution of the real and synthetic data by calculating the RMSE values for each column."
   ]
  },
  {
   "cell_type": "markdown",
   "metadata": {},
   "source": [
    "In summary, our data processing pipeline involved several key steps to prepare the data, train a Variational Autoencoder (VAE), generate synthetic data, and evaluate its quality.\n",
    "\n",
    "Firstly, we began by cleaning the raw data and preprocessing its columns. This included handling missing values by filling them with logical assumptions and encoding categorical variables using label encoding. Cleaning and preprocessing are essential to ensure the data is in a suitable format for modeling.\n",
    "\n",
    "Next, we applied scaling to the preprocessed data using the Min-Max scaler. Scaling is crucial for algorithms like neural networks to ensure that all features contribute equally to the model's performance. Min-Max scaling scales the data to a fixed range, typically between 0 and 1, preserving the relationships between variables.\n",
    "\n",
    "Then, we introduced the Variational Autoencoder (VAE) model. VAE is a type of generative model that learns to encode and decode data. It's particularly effective for generating new samples that resemble the original data distribution. The VAE model was trained for 20 epochs, during which it learned to reconstruct the input data and capture its underlying distribution.\n",
    "\n",
    "The VAE model uses a combination of two loss functions: reconstruction loss and KL divergence. The reconstruction loss measures how well the model reconstructs the input data, while the KL divergence ensures that the learned latent space follows a known distribution, typically a Gaussian.\n",
    "\n",
    "During training, the VAE model learns the parameters of this Gaussian distribution, specifically the mean (mu) and standard deviation (sigma). These parameters are then used to sample points in the latent space, which are subsequently passed to the decoder block.\n",
    "\n",
    "Using these sampled latent points, we generated synthetic data. In our case, we generated 2,002,225 synthetic data points. These synthetic data points represent new instances that resemble the original data distribution.\n",
    "\n",
    "Finally, we evaluated the quality of the generated data using three metrics: Coarse-grained, Medium-grained, and Fine-grained evaluation. These metrics provide insights into how well the synthetic data captures the characteristics of the original data across different levels of granularity.\n",
    "\n",
    "However, our evaluation revealed that the generated data was slightly skewed from the original data distribution. This suggests that while the VAE model successfully learned the underlying patterns in the data, there may be room for improvement in the generation process to better match the original data distribution. Further refinement of the model architecture or tuning of hyperparameters may be necessary to achieve better results."
   ]
  }
 ],
 "metadata": {
  "kernelspec": {
   "display_name": "Python 3",
   "language": "python",
   "name": "python3"
  },
  "language_info": {
   "codemirror_mode": {
    "name": "ipython",
    "version": 3
   },
   "file_extension": ".py",
   "mimetype": "text/x-python",
   "name": "python",
   "nbconvert_exporter": "python",
   "pygments_lexer": "ipython3",
   "version": "3.12.1"
  }
 },
 "nbformat": 4,
 "nbformat_minor": 2
}
